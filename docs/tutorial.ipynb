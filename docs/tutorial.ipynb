{
 "cells": [
  {
   "cell_type": "markdown",
   "metadata": {},
   "source": [
    "# Tutorial\n",
    "\n",
    "In order to run this notebook:\n",
    "* create new environment, make it visible to your Jupyter\n",
    "  * for conda do `conda create --name {name} python=3.10`\n",
    "  * activate it and install `pip install ipykernel`\n",
    "  * `ipython kernel install --user --name={name}`\n",
    "* within the new environment, install requirements, e.g. `pip install -r requirements.txt`\n",
    "  * this currently involves installing the current development versions of ms3 and dimcat\n",
    "* clone the corpus: `git clone --recurse-submodules -j8 https://github.com/DCMLab/dcml_corpora`\n",
    "* Set the `meta_repo` in the second cell to your local clone.\n",
    "\n",
    "If the plots are not displayed and you are in JupyterLab, use [this guide](https://plotly.com/python/getting-started/#jupyterlab-support)."
   ]
  },
  {
   "cell_type": "code",
   "execution_count": 3,
   "metadata": {
    "pycharm": {
     "name": "#%%\n"
    }
   },
   "outputs": [],
   "source": [
    "import os, random\n",
    "from git import Repo\n",
    "import dimcat as dc"
   ]
  },
  {
   "cell_type": "code",
   "execution_count": 4,
   "metadata": {},
   "outputs": [
    {
     "name": "stdout",
     "output_type": "stream",
     "text": [
      "dcml_corpora @ e21a5f0\n",
      "dimcat version 0.2.0.post1.dev64+gda0a036\n"
     ]
    }
   ],
   "source": [
    "meta_repo = \"~/dcml_corpora\"\n",
    "repo = Repo(meta_repo)\n",
    "print(f\"{os.path.basename(meta_repo)} @ {repo.commit().hexsha[:7]}\")\n",
    "print(f\"dimcat version {dc.__version__}\")"
   ]
  },
  {
   "cell_type": "markdown",
   "metadata": {},
   "source": [
    "## The Dataset object\n",
    "\n",
    "A `Dataset` object represents one or several [DCML corpora](https://github.com/DCMLab/dcml_corpora), depending on which folder(s) you load. By default, DiMCAT will discover all data it can potentially load, but parse only the tabular TSV files, not the scores from which they have been derived.\n",
    "\n",
    "### Initializing a Dataset\n",
    "\n",
    "Pass a directory to `dimcat.Dataset.load()` to discover and parse all TSV files. The property `data` simply returns an `ms3.Parse` object."
   ]
  },
  {
   "cell_type": "code",
   "execution_count": 5,
   "metadata": {
    "pycharm": {
     "name": "#%%\n"
    }
   },
   "outputs": [
    {
     "data": {
      "text/plain": [
       "[\u001b[1mdefault\u001b[0;0m|all]\n",
       "All corpora\n",
       "-----------\n",
       "View: This view is called 'default'. It \n",
       "\t- excludes fnames that are not contained in the metadata,\n",
       "\t- filters out file extensions requiring conversion (such as .xml), and\n",
       "\t- excludes review files and folders.\n",
       "\n",
       "                               has   active   scores measures           notes        expanded          events          chords       \n",
       "                          metadata     view detected detected parsed detected parsed detected parsed detected parsed detected parsed\n",
       "corpus                                                                                                                              \n",
       "ABC                            yes  default       70       70     70       70     70       70     70        0      0       70     70\n",
       "beethoven_piano_sonatas        yes  default       87       87     87       87     87       64     64        0      0       87     87\n",
       "chopin_mazurkas                yes  default       55       55     55       55     55       55     55        0      0       55     55\n",
       "corelli                        yes  default      149      149    149      149    149      149    149        0      0      149    149\n",
       "debussy_suite_bergamasque      yes  default        4        4      4        4      4        4      4        0      0        4      4\n",
       "dvorak_silhouettes             yes  default       12       12     12       12     12       12     12        0      0       12     12\n",
       "grieg_lyrical_pieces           yes  default       66       66     66       66     66       66     66        0      0       66     66\n",
       "liszt_pelerinage               yes  default       19       19     19       19     19       19     19        0      0       19     19\n",
       "medtner_tales                  yes  default       19       19     19       19     19       19     19        0      0       19     19\n",
       "mozart_piano_sonatas           yes  default       54       54     54       54     54       54     54        0      0       54     54\n",
       "schumann_kinderszenen          yes  default       13       13     13       13     13       13     13        0      0       13     13\n",
       "tchaikovsky_seasons            yes  default       12       12     12       12     12       12     12       12     12       12     12\n",
       "\n",
       "1438/4787 files are excluded from this view.\n",
       "\n",
       "1401 files have been excluded based on their subdir.\n",
       "37 files have been excluded based on their file name.\n",
       "\n",
       "\n",
       "There are 1 orphans that could not be attributed to any of the respective corpus's fnames."
      ]
     },
     "execution_count": 5,
     "metadata": {},
     "output_type": "execute_result"
    }
   ],
   "source": [
    "dataset = dc.Dataset()\n",
    "dataset.load(directory=meta_repo)\n",
    "dataset.data"
   ]
  },
  {
   "cell_type": "markdown",
   "metadata": {},
   "source": [
    "### Data is organized in facets and IDs\n",
    "\n",
    "* As you can see, DiMCAT recognized the subfolders of the meta-repository `dcml_corpora` as individual corpora (rows) and shows the number of detected and parsed files per facet (columns).\n",
    "* The facets that a DCML dataset includes by default are\n",
    "  * `measures`: feature matrices of partial and complete measure units that make up a score\n",
    "  * `notes`:  feature matrices of all note heads contained in a score\n",
    "  * `expanded`: feature matrices of all DCML harmony labels contained in a score\n",
    "  * (`scores`): since the scores are considered to hold the latest version of the mentioned facets, DiMCAT can extract the information freshly, but for saving RAM it is recommended to simply keep your facets up to date using the `ms3 extract` command \n",
    "* Internally, DiMCAT addresses pieces using index tuples, also called indices or IDs, that take the form `('corpus_name', 'piece_name')`. The list of pieces currently being analysed is stored under the `.indices` field:"
   ]
  },
  {
   "cell_type": "code",
   "execution_count": 6,
   "metadata": {},
   "outputs": [
    {
     "data": {
      "text/plain": [
       "[('ABC', 'n08op59-2_04'),\n",
       " ('medtner_tales', 'op26n03'),\n",
       " ('medtner_tales', 'op48n01'),\n",
       " ('grieg_lyrical_pieces', 'op68n04'),\n",
       " ('grieg_lyrical_pieces', 'op57n06'),\n",
       " ('beethoven_piano_sonatas', '14-1'),\n",
       " ('beethoven_piano_sonatas', '03-4'),\n",
       " ('ABC', 'n01op18-1_04'),\n",
       " ('medtner_tales', 'op42n03'),\n",
       " ('beethoven_piano_sonatas', '15-2')]"
      ]
     },
     "execution_count": 6,
     "metadata": {},
     "output_type": "execute_result"
    }
   ],
   "source": [
    "random.sample(dataset.indices, 10)"
   ]
  },
  {
   "cell_type": "markdown",
   "metadata": {},
   "source": [
    "### Accessing a facet\n",
    "To inspect a facet concatenated over all pieces, simply call"
   ]
  },
  {
   "cell_type": "code",
   "execution_count": 7,
   "metadata": {},
   "outputs": [
    {
     "data": {
      "text/html": [
       "<div>\n",
       "<style scoped>\n",
       "    .dataframe tbody tr th:only-of-type {\n",
       "        vertical-align: middle;\n",
       "    }\n",
       "\n",
       "    .dataframe tbody tr th {\n",
       "        vertical-align: top;\n",
       "    }\n",
       "\n",
       "    .dataframe thead th {\n",
       "        text-align: right;\n",
       "    }\n",
       "</style>\n",
       "<table border=\"1\" class=\"dataframe\">\n",
       "  <thead>\n",
       "    <tr style=\"text-align: right;\">\n",
       "      <th></th>\n",
       "      <th></th>\n",
       "      <th></th>\n",
       "      <th>mc</th>\n",
       "      <th>mn</th>\n",
       "      <th>quarterbeats</th>\n",
       "      <th>duration_qb</th>\n",
       "      <th>mc_onset</th>\n",
       "      <th>mn_onset</th>\n",
       "      <th>timesig</th>\n",
       "      <th>staff</th>\n",
       "      <th>voice</th>\n",
       "      <th>duration</th>\n",
       "      <th>...</th>\n",
       "      <th>nominal_duration</th>\n",
       "      <th>scalar</th>\n",
       "      <th>tied</th>\n",
       "      <th>tpc</th>\n",
       "      <th>midi</th>\n",
       "      <th>volta</th>\n",
       "      <th>chord_id</th>\n",
       "      <th>name</th>\n",
       "      <th>octave</th>\n",
       "      <th>tremolo</th>\n",
       "    </tr>\n",
       "    <tr>\n",
       "      <th>corpus</th>\n",
       "      <th>fname</th>\n",
       "      <th>interval</th>\n",
       "      <th></th>\n",
       "      <th></th>\n",
       "      <th></th>\n",
       "      <th></th>\n",
       "      <th></th>\n",
       "      <th></th>\n",
       "      <th></th>\n",
       "      <th></th>\n",
       "      <th></th>\n",
       "      <th></th>\n",
       "      <th></th>\n",
       "      <th></th>\n",
       "      <th></th>\n",
       "      <th></th>\n",
       "      <th></th>\n",
       "      <th></th>\n",
       "      <th></th>\n",
       "      <th></th>\n",
       "      <th></th>\n",
       "      <th></th>\n",
       "      <th></th>\n",
       "    </tr>\n",
       "  </thead>\n",
       "  <tbody>\n",
       "    <tr>\n",
       "      <th rowspan=\"5\" valign=\"top\">ABC</th>\n",
       "      <th rowspan=\"5\" valign=\"top\">n01op18-1_01</th>\n",
       "      <th>[0.0, 1.0)</th>\n",
       "      <td>1</td>\n",
       "      <td>1</td>\n",
       "      <td>0</td>\n",
       "      <td>1.0</td>\n",
       "      <td>0</td>\n",
       "      <td>0</td>\n",
       "      <td>3/4</td>\n",
       "      <td>3</td>\n",
       "      <td>1</td>\n",
       "      <td>1/4</td>\n",
       "      <td>...</td>\n",
       "      <td>1/4</td>\n",
       "      <td>1</td>\n",
       "      <td>1</td>\n",
       "      <td>-1</td>\n",
       "      <td>53</td>\n",
       "      <td>&lt;NA&gt;</td>\n",
       "      <td>12</td>\n",
       "      <td>NaN</td>\n",
       "      <td>&lt;NA&gt;</td>\n",
       "      <td>NaN</td>\n",
       "    </tr>\n",
       "    <tr>\n",
       "      <th>[0.0, 1.0)</th>\n",
       "      <td>1</td>\n",
       "      <td>1</td>\n",
       "      <td>0</td>\n",
       "      <td>1.0</td>\n",
       "      <td>0</td>\n",
       "      <td>0</td>\n",
       "      <td>3/4</td>\n",
       "      <td>4</td>\n",
       "      <td>1</td>\n",
       "      <td>1/4</td>\n",
       "      <td>...</td>\n",
       "      <td>1/4</td>\n",
       "      <td>1</td>\n",
       "      <td>1</td>\n",
       "      <td>-1</td>\n",
       "      <td>53</td>\n",
       "      <td>&lt;NA&gt;</td>\n",
       "      <td>18</td>\n",
       "      <td>NaN</td>\n",
       "      <td>&lt;NA&gt;</td>\n",
       "      <td>NaN</td>\n",
       "    </tr>\n",
       "    <tr>\n",
       "      <th>[0.0, 1.0)</th>\n",
       "      <td>1</td>\n",
       "      <td>1</td>\n",
       "      <td>0</td>\n",
       "      <td>1.0</td>\n",
       "      <td>0</td>\n",
       "      <td>0</td>\n",
       "      <td>3/4</td>\n",
       "      <td>1</td>\n",
       "      <td>1</td>\n",
       "      <td>1/4</td>\n",
       "      <td>...</td>\n",
       "      <td>1/4</td>\n",
       "      <td>1</td>\n",
       "      <td>1</td>\n",
       "      <td>-1</td>\n",
       "      <td>65</td>\n",
       "      <td>&lt;NA&gt;</td>\n",
       "      <td>0</td>\n",
       "      <td>NaN</td>\n",
       "      <td>&lt;NA&gt;</td>\n",
       "      <td>NaN</td>\n",
       "    </tr>\n",
       "    <tr>\n",
       "      <th>[0.0, 1.0)</th>\n",
       "      <td>1</td>\n",
       "      <td>1</td>\n",
       "      <td>0</td>\n",
       "      <td>1.0</td>\n",
       "      <td>0</td>\n",
       "      <td>0</td>\n",
       "      <td>3/4</td>\n",
       "      <td>2</td>\n",
       "      <td>1</td>\n",
       "      <td>1/4</td>\n",
       "      <td>...</td>\n",
       "      <td>1/4</td>\n",
       "      <td>1</td>\n",
       "      <td>1</td>\n",
       "      <td>-1</td>\n",
       "      <td>65</td>\n",
       "      <td>&lt;NA&gt;</td>\n",
       "      <td>6</td>\n",
       "      <td>NaN</td>\n",
       "      <td>&lt;NA&gt;</td>\n",
       "      <td>NaN</td>\n",
       "    </tr>\n",
       "    <tr>\n",
       "      <th>[1.0, 1.5)</th>\n",
       "      <td>1</td>\n",
       "      <td>1</td>\n",
       "      <td>1</td>\n",
       "      <td>0.5</td>\n",
       "      <td>1/4</td>\n",
       "      <td>1/4</td>\n",
       "      <td>3/4</td>\n",
       "      <td>3</td>\n",
       "      <td>1</td>\n",
       "      <td>1/8</td>\n",
       "      <td>...</td>\n",
       "      <td>1/8</td>\n",
       "      <td>1</td>\n",
       "      <td>-1</td>\n",
       "      <td>-1</td>\n",
       "      <td>53</td>\n",
       "      <td>&lt;NA&gt;</td>\n",
       "      <td>13</td>\n",
       "      <td>NaN</td>\n",
       "      <td>&lt;NA&gt;</td>\n",
       "      <td>NaN</td>\n",
       "    </tr>\n",
       "    <tr>\n",
       "      <th>...</th>\n",
       "      <th>...</th>\n",
       "      <th>...</th>\n",
       "      <td>...</td>\n",
       "      <td>...</td>\n",
       "      <td>...</td>\n",
       "      <td>...</td>\n",
       "      <td>...</td>\n",
       "      <td>...</td>\n",
       "      <td>...</td>\n",
       "      <td>...</td>\n",
       "      <td>...</td>\n",
       "      <td>...</td>\n",
       "      <td>...</td>\n",
       "      <td>...</td>\n",
       "      <td>...</td>\n",
       "      <td>...</td>\n",
       "      <td>...</td>\n",
       "      <td>...</td>\n",
       "      <td>...</td>\n",
       "      <td>...</td>\n",
       "      <td>...</td>\n",
       "      <td>...</td>\n",
       "      <td>...</td>\n",
       "    </tr>\n",
       "    <tr>\n",
       "      <th rowspan=\"5\" valign=\"top\">tchaikovsky_seasons</th>\n",
       "      <th rowspan=\"5\" valign=\"top\">op37a12</th>\n",
       "      <th>[525.0, 526.0)</th>\n",
       "      <td>176</td>\n",
       "      <td>176</td>\n",
       "      <td>525</td>\n",
       "      <td>1.0</td>\n",
       "      <td>0</td>\n",
       "      <td>0</td>\n",
       "      <td>3/4</td>\n",
       "      <td>2</td>\n",
       "      <td>1</td>\n",
       "      <td>1/4</td>\n",
       "      <td>...</td>\n",
       "      <td>1/4</td>\n",
       "      <td>1</td>\n",
       "      <td>&lt;NA&gt;</td>\n",
       "      <td>0</td>\n",
       "      <td>72</td>\n",
       "      <td>&lt;NA&gt;</td>\n",
       "      <td>1071</td>\n",
       "      <td>C5</td>\n",
       "      <td>5</td>\n",
       "      <td>NaN</td>\n",
       "    </tr>\n",
       "    <tr>\n",
       "      <th>[525.0, 526.0)</th>\n",
       "      <td>176</td>\n",
       "      <td>176</td>\n",
       "      <td>525</td>\n",
       "      <td>1.0</td>\n",
       "      <td>0</td>\n",
       "      <td>0</td>\n",
       "      <td>3/4</td>\n",
       "      <td>2</td>\n",
       "      <td>1</td>\n",
       "      <td>1/4</td>\n",
       "      <td>...</td>\n",
       "      <td>1/4</td>\n",
       "      <td>1</td>\n",
       "      <td>&lt;NA&gt;</td>\n",
       "      <td>-3</td>\n",
       "      <td>75</td>\n",
       "      <td>&lt;NA&gt;</td>\n",
       "      <td>1071</td>\n",
       "      <td>Eb5</td>\n",
       "      <td>5</td>\n",
       "      <td>NaN</td>\n",
       "    </tr>\n",
       "    <tr>\n",
       "      <th>[525.0, 526.0)</th>\n",
       "      <td>176</td>\n",
       "      <td>176</td>\n",
       "      <td>525</td>\n",
       "      <td>1.0</td>\n",
       "      <td>0</td>\n",
       "      <td>0</td>\n",
       "      <td>3/4</td>\n",
       "      <td>1</td>\n",
       "      <td>1</td>\n",
       "      <td>1/4</td>\n",
       "      <td>...</td>\n",
       "      <td>1/4</td>\n",
       "      <td>1</td>\n",
       "      <td>&lt;NA&gt;</td>\n",
       "      <td>-4</td>\n",
       "      <td>80</td>\n",
       "      <td>&lt;NA&gt;</td>\n",
       "      <td>1070</td>\n",
       "      <td>Ab5</td>\n",
       "      <td>5</td>\n",
       "      <td>NaN</td>\n",
       "    </tr>\n",
       "    <tr>\n",
       "      <th>[525.0, 526.0)</th>\n",
       "      <td>176</td>\n",
       "      <td>176</td>\n",
       "      <td>525</td>\n",
       "      <td>1.0</td>\n",
       "      <td>0</td>\n",
       "      <td>0</td>\n",
       "      <td>3/4</td>\n",
       "      <td>1</td>\n",
       "      <td>1</td>\n",
       "      <td>1/4</td>\n",
       "      <td>...</td>\n",
       "      <td>1/4</td>\n",
       "      <td>1</td>\n",
       "      <td>&lt;NA&gt;</td>\n",
       "      <td>0</td>\n",
       "      <td>84</td>\n",
       "      <td>&lt;NA&gt;</td>\n",
       "      <td>1070</td>\n",
       "      <td>C6</td>\n",
       "      <td>6</td>\n",
       "      <td>NaN</td>\n",
       "    </tr>\n",
       "    <tr>\n",
       "      <th>[525.0, 526.0)</th>\n",
       "      <td>176</td>\n",
       "      <td>176</td>\n",
       "      <td>525</td>\n",
       "      <td>1.0</td>\n",
       "      <td>0</td>\n",
       "      <td>0</td>\n",
       "      <td>3/4</td>\n",
       "      <td>1</td>\n",
       "      <td>1</td>\n",
       "      <td>1/4</td>\n",
       "      <td>...</td>\n",
       "      <td>1/4</td>\n",
       "      <td>1</td>\n",
       "      <td>&lt;NA&gt;</td>\n",
       "      <td>-4</td>\n",
       "      <td>92</td>\n",
       "      <td>&lt;NA&gt;</td>\n",
       "      <td>1070</td>\n",
       "      <td>Ab6</td>\n",
       "      <td>6</td>\n",
       "      <td>NaN</td>\n",
       "    </tr>\n",
       "  </tbody>\n",
       "</table>\n",
       "<p>902522 rows × 21 columns</p>\n",
       "</div>"
      ],
      "text/plain": [
       "                                                  mc   mn quarterbeats  \\\n",
       "corpus              fname        interval                                \n",
       "ABC                 n01op18-1_01 [0.0, 1.0)        1    1            0   \n",
       "                                 [0.0, 1.0)        1    1            0   \n",
       "                                 [0.0, 1.0)        1    1            0   \n",
       "                                 [0.0, 1.0)        1    1            0   \n",
       "                                 [1.0, 1.5)        1    1            1   \n",
       "...                                              ...  ...          ...   \n",
       "tchaikovsky_seasons op37a12      [525.0, 526.0)  176  176          525   \n",
       "                                 [525.0, 526.0)  176  176          525   \n",
       "                                 [525.0, 526.0)  176  176          525   \n",
       "                                 [525.0, 526.0)  176  176          525   \n",
       "                                 [525.0, 526.0)  176  176          525   \n",
       "\n",
       "                                                 duration_qb mc_onset  \\\n",
       "corpus              fname        interval                               \n",
       "ABC                 n01op18-1_01 [0.0, 1.0)              1.0        0   \n",
       "                                 [0.0, 1.0)              1.0        0   \n",
       "                                 [0.0, 1.0)              1.0        0   \n",
       "                                 [0.0, 1.0)              1.0        0   \n",
       "                                 [1.0, 1.5)              0.5      1/4   \n",
       "...                                                      ...      ...   \n",
       "tchaikovsky_seasons op37a12      [525.0, 526.0)          1.0        0   \n",
       "                                 [525.0, 526.0)          1.0        0   \n",
       "                                 [525.0, 526.0)          1.0        0   \n",
       "                                 [525.0, 526.0)          1.0        0   \n",
       "                                 [525.0, 526.0)          1.0        0   \n",
       "\n",
       "                                                mn_onset timesig  staff  \\\n",
       "corpus              fname        interval                                 \n",
       "ABC                 n01op18-1_01 [0.0, 1.0)            0     3/4      3   \n",
       "                                 [0.0, 1.0)            0     3/4      4   \n",
       "                                 [0.0, 1.0)            0     3/4      1   \n",
       "                                 [0.0, 1.0)            0     3/4      2   \n",
       "                                 [1.0, 1.5)          1/4     3/4      3   \n",
       "...                                                  ...     ...    ...   \n",
       "tchaikovsky_seasons op37a12      [525.0, 526.0)        0     3/4      2   \n",
       "                                 [525.0, 526.0)        0     3/4      2   \n",
       "                                 [525.0, 526.0)        0     3/4      1   \n",
       "                                 [525.0, 526.0)        0     3/4      1   \n",
       "                                 [525.0, 526.0)        0     3/4      1   \n",
       "\n",
       "                                                 voice duration  ...  \\\n",
       "corpus              fname        interval                        ...   \n",
       "ABC                 n01op18-1_01 [0.0, 1.0)          1      1/4  ...   \n",
       "                                 [0.0, 1.0)          1      1/4  ...   \n",
       "                                 [0.0, 1.0)          1      1/4  ...   \n",
       "                                 [0.0, 1.0)          1      1/4  ...   \n",
       "                                 [1.0, 1.5)          1      1/8  ...   \n",
       "...                                                ...      ...  ...   \n",
       "tchaikovsky_seasons op37a12      [525.0, 526.0)      1      1/4  ...   \n",
       "                                 [525.0, 526.0)      1      1/4  ...   \n",
       "                                 [525.0, 526.0)      1      1/4  ...   \n",
       "                                 [525.0, 526.0)      1      1/4  ...   \n",
       "                                 [525.0, 526.0)      1      1/4  ...   \n",
       "\n",
       "                                                nominal_duration scalar  tied  \\\n",
       "corpus              fname        interval                                       \n",
       "ABC                 n01op18-1_01 [0.0, 1.0)                  1/4      1     1   \n",
       "                                 [0.0, 1.0)                  1/4      1     1   \n",
       "                                 [0.0, 1.0)                  1/4      1     1   \n",
       "                                 [0.0, 1.0)                  1/4      1     1   \n",
       "                                 [1.0, 1.5)                  1/8      1    -1   \n",
       "...                                                          ...    ...   ...   \n",
       "tchaikovsky_seasons op37a12      [525.0, 526.0)              1/4      1  <NA>   \n",
       "                                 [525.0, 526.0)              1/4      1  <NA>   \n",
       "                                 [525.0, 526.0)              1/4      1  <NA>   \n",
       "                                 [525.0, 526.0)              1/4      1  <NA>   \n",
       "                                 [525.0, 526.0)              1/4      1  <NA>   \n",
       "\n",
       "                                                 tpc  midi  volta  chord_id  \\\n",
       "corpus              fname        interval                                     \n",
       "ABC                 n01op18-1_01 [0.0, 1.0)       -1    53   <NA>        12   \n",
       "                                 [0.0, 1.0)       -1    53   <NA>        18   \n",
       "                                 [0.0, 1.0)       -1    65   <NA>         0   \n",
       "                                 [0.0, 1.0)       -1    65   <NA>         6   \n",
       "                                 [1.0, 1.5)       -1    53   <NA>        13   \n",
       "...                                              ...   ...    ...       ...   \n",
       "tchaikovsky_seasons op37a12      [525.0, 526.0)    0    72   <NA>      1071   \n",
       "                                 [525.0, 526.0)   -3    75   <NA>      1071   \n",
       "                                 [525.0, 526.0)   -4    80   <NA>      1070   \n",
       "                                 [525.0, 526.0)    0    84   <NA>      1070   \n",
       "                                 [525.0, 526.0)   -4    92   <NA>      1070   \n",
       "\n",
       "                                                 name octave  tremolo  \n",
       "corpus              fname        interval                              \n",
       "ABC                 n01op18-1_01 [0.0, 1.0)       NaN   <NA>      NaN  \n",
       "                                 [0.0, 1.0)       NaN   <NA>      NaN  \n",
       "                                 [0.0, 1.0)       NaN   <NA>      NaN  \n",
       "                                 [0.0, 1.0)       NaN   <NA>      NaN  \n",
       "                                 [1.0, 1.5)       NaN   <NA>      NaN  \n",
       "...                                               ...    ...      ...  \n",
       "tchaikovsky_seasons op37a12      [525.0, 526.0)    C5      5      NaN  \n",
       "                                 [525.0, 526.0)   Eb5      5      NaN  \n",
       "                                 [525.0, 526.0)   Ab5      5      NaN  \n",
       "                                 [525.0, 526.0)    C6      6      NaN  \n",
       "                                 [525.0, 526.0)   Ab6      6      NaN  \n",
       "\n",
       "[902522 rows x 21 columns]"
      ]
     },
     "execution_count": 7,
     "metadata": {},
     "output_type": "execute_result"
    }
   ],
   "source": [
    "dataset.get_facet('notes')"
   ]
  },
  {
   "cell_type": "markdown",
   "metadata": {},
   "source": [
    "As you can see, the IDs are included as index levels and the third level indicates the temporal dimensions, the time interval, of each event (here of every note head) expressed in quarter notes.\n",
    "\n",
    "### Filtering the data to be analyzed\n",
    "\n",
    "The data overview above shows that the `expanded` facet is not available for all 87 pieces included in the `beethoven_piano_sonatas` corpus (i.e., they have not been annotated with harmony labels), so in some cases we might want to filter pieces (i.e., IDs) from the dataset. This is what the objects in the `dimcat.filter` module do: They iterate through the IDs and exclude those that do not fulfill the filter's criterion.\n",
    "\n",
    "For example, to filter out those pieces that have not been annotated we instantiate an `IsAnnotatedFilter`:"
   ]
  },
  {
   "cell_type": "code",
   "execution_count": 8,
   "metadata": {},
   "outputs": [],
   "source": [
    "filter_object = dc.IsAnnotatedFilter()"
   ]
  },
  {
   "cell_type": "markdown",
   "metadata": {},
   "source": [
    "All DiMCAT objects working on data come with a `.process_data()` method that takes a dataset and returns a processed copy of the dataset. For example, to apply the filter to our dataset:"
   ]
  },
  {
   "cell_type": "code",
   "execution_count": null,
   "metadata": {},
   "outputs": [
    {
     "name": "stdout",
     "output_type": "stream",
     "text": [
      "INCOMPLETE_MC_WRONGLY_COMPLETED_WARNING (3, 96) ms3.Parse.beethoven_piano_sonatas.04-3 -- /home/hentsche/PycharmProjects/ms3/src/ms3/bs4_measures.py (line 763) make_offset_col():\n",
      "\tThe incomplete MC 96 (timesig 3/4, act_dur 1/4) is completed by 1 incorrect duration (expected: 1/2):\n",
      "\t{97: Fraction(3, 4)}\n",
      "INCOMPLETE_MC_WRONGLY_COMPLETED_WARNING (3, 112) ms3.Parse.beethoven_piano_sonatas.04-3 -- /home/hentsche/PycharmProjects/ms3/src/ms3/bs4_measures.py (line 763) make_offset_col():\n",
      "\tThe incomplete MC 112 (timesig 3/4, act_dur 1/2) is completed by 1 incorrect duration (expected: 1/4):\n",
      "\t{25: Fraction(3, 4), 113: Fraction(1, 4)}\n",
      "INCOMPLETE_MC_WRONGLY_COMPLETED_WARNING (3, 39) ms3.Parse.beethoven_piano_sonatas.13-1 -- /home/hentsche/PycharmProjects/ms3/src/ms3/bs4_measures.py (line 763) make_offset_col():\n",
      "\tThe incomplete MC 39 (timesig 3/4, act_dur 1/8) is completed by 1 incorrect duration (expected: 5/8):\n",
      "\t{40: Fraction(3, 4)}\n",
      "INCOMPLETE_MC_WRONGLY_COMPLETED_WARNING (3, 47) ms3.Parse.beethoven_piano_sonatas.13-1 -- /home/hentsche/PycharmProjects/ms3/src/ms3/bs4_measures.py (line 763) make_offset_col():\n",
      "\tThe incomplete MC 47 (timesig 3/4, act_dur 5/8) is completed by 1 incorrect duration (expected: 1/8):\n",
      "\t{14: Fraction(1, 1), 48: Fraction(1, 8)}\n",
      "INCOMPLETE_MC_WRONGLY_COMPLETED_WARNING (3, 267) ms3.Parse.beethoven_piano_sonatas.13-4 -- /home/hentsche/PycharmProjects/ms3/src/ms3/bs4_measures.py (line 763) make_offset_col():\n",
      "\tThe incomplete MC 267 (timesig 3/4, act_dur 1/2) is completed by 1 incorrect duration (expected: 1/4):\n",
      "\t{268: Fraction(1, 2)}\n",
      "INCOMPLETE_MC_WRONGLY_COMPLETED_WARNING (3, 269) ms3.Parse.beethoven_piano_sonatas.13-4 -- /home/hentsche/PycharmProjects/ms3/src/ms3/bs4_measures.py (line 763) make_offset_col():\n",
      "\tThe incomplete MC 269 (timesig 3/4, act_dur 1/2) is completed by 1 incorrect duration (expected: 1/4):\n",
      "\t{270: Fraction(1, 2)}\n",
      "INCOMPLETE_MC_WRONGLY_COMPLETED_WARNING (3, 271) ms3.Parse.beethoven_piano_sonatas.13-4 -- /home/hentsche/PycharmProjects/ms3/src/ms3/bs4_measures.py (line 763) make_offset_col():\n",
      "\tThe incomplete MC 271 (timesig 3/4, act_dur 1/2) is completed by 1 incorrect duration (expected: 1/4):\n",
      "\t{272: Fraction(1, 2)}\n",
      "INCOMPLETE_MC_WRONGLY_COMPLETED_WARNING (3, 273) ms3.Parse.beethoven_piano_sonatas.13-4 -- /home/hentsche/PycharmProjects/ms3/src/ms3/bs4_measures.py (line 763) make_offset_col():\n",
      "\tThe incomplete MC 273 (timesig 3/4, act_dur 1/2) is completed by 1 incorrect duration (expected: 1/4):\n",
      "\t{274: Fraction(1, 2)}\n",
      "INCOMPLETE_MC_WRONGLY_COMPLETED_WARNING (3, 275) ms3.Parse.beethoven_piano_sonatas.13-4 -- /home/hentsche/PycharmProjects/ms3/src/ms3/bs4_measures.py (line 763) make_offset_col():\n",
      "\tThe incomplete MC 275 (timesig 3/4, act_dur 1/2) is completed by 1 incorrect duration (expected: 1/4):\n",
      "\t{276: Fraction(1, 2)}\n",
      "INCOMPLETE_MC_WRONGLY_COMPLETED_WARNING (3, 277) ms3.Parse.beethoven_piano_sonatas.13-4 -- /home/hentsche/PycharmProjects/ms3/src/ms3/bs4_measures.py (line 763) make_offset_col():\n",
      "\tThe incomplete MC 277 (timesig 3/4, act_dur 1/2) is completed by 1 incorrect duration (expected: 1/4):\n",
      "\t{278: Fraction(1, 2)}\n",
      "INCOMPLETE_MC_WRONGLY_COMPLETED_WARNING (3, 279) ms3.Parse.beethoven_piano_sonatas.13-4 -- /home/hentsche/PycharmProjects/ms3/src/ms3/bs4_measures.py (line 763) make_offset_col():\n",
      "\tThe incomplete MC 279 (timesig 3/4, act_dur 1/2) is completed by 1 incorrect duration (expected: 1/4):\n",
      "\t{280: Fraction(1, 2)}\n",
      "INCOMPLETE_MC_WRONGLY_COMPLETED_WARNING (3, 281) ms3.Parse.beethoven_piano_sonatas.13-4 -- /home/hentsche/PycharmProjects/ms3/src/ms3/bs4_measures.py (line 763) make_offset_col():\n",
      "\tThe incomplete MC 281 (timesig 3/4, act_dur 1/2) is completed by 1 incorrect duration (expected: 1/4):\n",
      "\t{282: Fraction(1, 2)}\n",
      "INCOMPLETE_MC_WRONGLY_COMPLETED_WARNING (3, 283) ms3.Parse.beethoven_piano_sonatas.13-4 -- /home/hentsche/PycharmProjects/ms3/src/ms3/bs4_measures.py (line 763) make_offset_col():\n",
      "\tThe incomplete MC 283 (timesig 3/4, act_dur 1/2) is completed by 1 incorrect duration (expected: 1/4):\n",
      "\t{284: Fraction(1, 2)}\n",
      "INCOMPLETE_MC_WRONGLY_COMPLETED_WARNING (3, 285) ms3.Parse.beethoven_piano_sonatas.13-4 -- /home/hentsche/PycharmProjects/ms3/src/ms3/bs4_measures.py (line 763) make_offset_col():\n",
      "\tThe incomplete MC 285 (timesig 3/4, act_dur 1/2) is completed by 1 incorrect duration (expected: 1/4):\n",
      "\t{286: Fraction(1, 2)}\n",
      "MCS_NOT_EXCLUDED_FROM_BARCOUNT_WARNING (1, 268, 270, 272, 274, 276, 278, 280, 282, 284, 286) ms3.Parse.beethoven_piano_sonatas.13-4 -- /home/hentsche/PycharmProjects/ms3/src/ms3/bs4_measures.py (line 204) check_measure_numbers():\n",
      "\tMCs 268, 270, 272, 274, 276, 278, 280, 282, 284, 286 seem to be offset from the MN's beginning but have not been excluded from barcount. Context:\n",
      "\t      mc   mn act_dur mc_offset  dont_count  numbering_offset\n",
      "\t266  267  266     1/2         0        <NA>              <NA>\n",
      "\t267  268  267     1/2       1/4        <NA>              <NA>\n",
      "\t268  269  268     1/2         0        <NA>              <NA>\n",
      "\t269  270  269     1/2       1/4        <NA>              <NA>\n",
      "\t270  271  270     1/2         0        <NA>              <NA>\n",
      "\t271  272  271     1/2       1/4        <NA>              <NA>\n",
      "\t272  273  272     1/2         0        <NA>              <NA>\n",
      "\t273  274  273     1/2       1/4        <NA>              <NA>\n",
      "\t274  275  274     1/2         0        <NA>              <NA>\n",
      "\t275  276  275     1/2       1/4        <NA>              <NA>\n",
      "\t276  277  276     1/2         0        <NA>              <NA>\n",
      "\t277  278  277     1/2       1/4        <NA>              <NA>\n",
      "\t278  279  278     1/2         0        <NA>              <NA>\n",
      "\t279  280  279     1/2       1/4        <NA>              <NA>\n",
      "\t280  281  280     1/2         0        <NA>              <NA>\n",
      "\t281  282  281     1/2       1/4        <NA>              <NA>\n",
      "\t282  283  282     1/2         0        <NA>              <NA>\n",
      "\t283  284  283     1/2       1/4        <NA>              <NA>\n",
      "\t284  285  284     1/2         0        <NA>              <NA>\n",
      "\t285  286  285     1/2       1/4        <NA>              <NA>\n"
     ]
    }
   ],
   "source": [
    "annotated = filter_object.process_data(dataset)\n",
    "print(f\"Before filtering: {dataset.n_indices} IDs.\\nAfter filtering: {annotated.n_indices} IDs.\")"
   ]
  },
  {
   "cell_type": "markdown",
   "metadata": {},
   "source": [
    "## Applying PipelineSteps to a Dataset\n",
    "\n",
    "Everything else in DiMCAT is a PipelineStep the various types of which are distributed over several modules:\n",
    "\n",
    "* `dimcat.filter`: Filters return a new Dataset where certain IDs have been removed.\n",
    "* `dimcat.plotter`: Plotters plot analysis ('processed') data and potentially output plots as files.\n",
    "* `dimcat.writer`: Writers output analyzed data to disk.\n",
    "\n",
    "* `dimcat.grouper`: Groupers subdivide each of the current ID groups based on a given criterion and return a new Dataset with an altered `.indices` field.\n",
    "* `dimcat.slicer`: Slicers create for each ID (read: piece) a set of chunks identified by non-overlapping intervals. Any facet retrieved from such a sliced Dataset will be sliced, cutting and duplicating any event that overlaps the interval boundaries.\n",
    "* `dimcat.analyzer`: Analyzers perform an analysis on a given Dataset and return a new Dataset with the results stored in the `.processed` field. \n",
    "\n",
    "As we have seen with the `IsAnnotatedFilter` above, these PipelineSteps come with the method `process_data()` and return a copy of the given Dataset. Out of the first three mentioned types, it is actually the only one returning a potentially modified copy, whereas plotters and writers return an exact copy.\n",
    "\n",
    "This is different for groupers, slicers, and analyzers which all transform datasets to the point that they output new datatypes, which are subtypes of `GroupedData`, `SlicedData`, and `AnalyzedData` respectively.\n",
    "\n",
    "### Applying a slicer\n",
    "\n",
    "Having selected only annotated pieces, we can apply the `LocalKeySlicer` that slices the dataset into segments that remaining in one and the same local key:"
   ]
  },
  {
   "cell_type": "code",
   "execution_count": null,
   "metadata": {
    "tags": []
   },
   "outputs": [],
   "source": [
    "localkey_slices = dc.LocalKeySlicer().process_data(annotated)\n",
    "type(localkey_slices)"
   ]
  },
  {
   "cell_type": "markdown",
   "metadata": {},
   "source": [
    "The type of the new dataset is a hybrid of `SlicedData` (any data processed by a slicer) and `Dataset`, the particular type representing for DCML corpora:"
   ]
  },
  {
   "cell_type": "code",
   "execution_count": null,
   "metadata": {},
   "outputs": [],
   "source": [
    "isinstance(localkey_slices, dc.data.SlicedData), isinstance(localkey_slices, dc.Dataset)"
   ]
  },
  {
   "cell_type": "markdown",
   "metadata": {},
   "source": [
    "This is useful because we can guarantee that sliced data always come with its two defining fields, which are the dictionary `sliced` for storing previously sliced facets, and `.slice_info` for storing information about the slices themselves; regardless of the type of the dataset and its idiosyncratic ways of interacting with this slicing information.\n",
    "\n",
    "Another thing differentiating `SlicedData` from other data is that it has new IDs which identify pieces rather than slices:"
   ]
  },
  {
   "cell_type": "code",
   "execution_count": null,
   "metadata": {},
   "outputs": [],
   "source": [
    "print(f\"Before: {annotated.n_indices} IDs, after slicing: {localkey_slices.n_indices} IDs\")\n",
    "print(f\"Facets that have been sliced so far: {list(localkey_slices.sliced.keys())}.\")"
   ]
  },
  {
   "cell_type": "markdown",
   "metadata": {},
   "source": [
    "The IDs of the sliced Dataset have multiplied and received a third element, which is the interval specifying the extent of one particular slice in quarter notes. Let's have a look at the first 10 IDs of the `SlicedDataset`:"
   ]
  },
  {
   "cell_type": "code",
   "execution_count": null,
   "metadata": {},
   "outputs": [],
   "source": [
    "localkey_slices.indices[:10]"
   ]
  },
  {
   "cell_type": "markdown",
   "metadata": {},
   "source": [
    "The IDs make sure that all facets retrieved from this Dataset will be sliced.\n",
    "\n",
    "This is True not only for the facet that has been used for slicing (annotation tables in the present case):"
   ]
  },
  {
   "cell_type": "code",
   "execution_count": null,
   "metadata": {},
   "outputs": [],
   "source": [
    "localkey_slices.get_facet('expanded').head(30)"
   ]
  },
  {
   "cell_type": "markdown",
   "metadata": {},
   "source": [
    "But also for any other facet requested:"
   ]
  },
  {
   "cell_type": "code",
   "execution_count": null,
   "metadata": {},
   "outputs": [],
   "source": [
    "localkey_slices.get_facet('notes')"
   ]
  },
  {
   "cell_type": "markdown",
   "metadata": {},
   "source": [
    "In both cases we see an additional index level `localkey_slice` containing the intervals of the localkey segments. Notes that originally overlapped a localkey boundary are now split in two with `duration_qb` values adapted (but not `duration` which keeps the original value). \n",
    "\n",
    "However, we might be interested only in the slices themselves, so we can get the information stored in the field `slice_info` by calling:"
   ]
  },
  {
   "cell_type": "code",
   "execution_count": null,
   "metadata": {},
   "outputs": [],
   "source": [
    "localkey_slices.get_slice_info()[['duration_qb', 'globalkey', 'localkey']]"
   ]
  },
  {
   "cell_type": "markdown",
   "metadata": {},
   "source": [
    "### Applying a Grouper\n",
    "\n",
    "If, for example, we want to analyse localkey segments separately depending on whether they are in major or minor, we could apply a `ModeGrouper`, which can only applied to a Dataset that has already been sliced:"
   ]
  },
  {
   "cell_type": "code",
   "execution_count": null,
   "metadata": {},
   "outputs": [],
   "source": [
    "grouped_localkey_slices = dc.ModeGrouper().process_data(localkey_slices)\n",
    "grouped_localkey_slices.get_slice_info()[['duration_qb', 'globalkey', 'localkey']]"
   ]
  },
  {
   "cell_type": "markdown",
   "metadata": {},
   "source": [
    "The grouping is displayed as the prepended index level `localkey_is_minor`. In this case the groups are simply called `True` or `False`, as can be seen by inspecting the `.indices` dictionary. The keys are tuples whose lengths match the number of applied Groupers so far."
   ]
  },
  {
   "cell_type": "code",
   "execution_count": null,
   "metadata": {},
   "outputs": [],
   "source": [
    "list(grouped_localkey_slices.indices)"
   ]
  },
  {
   "cell_type": "markdown",
   "metadata": {},
   "source": [
    "## Applying an Analyzer\n",
    "\n",
    "After having seen the various ways how a Dataset can be reshaped, let us have a look how the various transformations change the result of an analyzer.\n",
    "To that aim, let's first initialize the `PitchClassVectors` analyzer with the desired configuration:"
   ]
  },
  {
   "cell_type": "code",
   "execution_count": null,
   "metadata": {},
   "outputs": [],
   "source": [
    "pcv_analyzer = dc.PitchClassVectors(pitch_class_format='pc', \n",
    "                                    weight_grace_durations=0.5, \n",
    "                                    normalize=True, \n",
    "                                    include_empty=True)"
   ]
  },
  {
   "cell_type": "markdown",
   "metadata": {},
   "source": [
    "We want to \n",
    "\n",
    "* see pitch classes 0-12 (as opposed to the defautl `tpc`, i.e. tonal pitch classes on the line of fifth),\n",
    "* include grace notes, which usually have duration 0, by halving their note values,\n",
    "* normalize the resulting vectors, and\n",
    "* include zero vectors where no notes occur (i.e. for completely silent segments).\n",
    "\n",
    "We start by applying this analyzer to the filtered dataset, in which all pieces are excluded that do not contain annotations:"
   ]
  },
  {
   "cell_type": "code",
   "execution_count": null,
   "metadata": {},
   "outputs": [],
   "source": [
    "annotated_pieces_pcvs = pcv_analyzer.process_data(annotated)\n",
    "annotated_pieces_pcvs.get_results()"
   ]
  },
  {
   "cell_type": "markdown",
   "metadata": {},
   "source": [
    "Applying the same analyzer to the Dataset sliced by localkey segments yields one vector per segment:"
   ]
  },
  {
   "cell_type": "code",
   "execution_count": null,
   "metadata": {},
   "outputs": [],
   "source": [
    "localkey_segment_pcvs = pcv_analyzer.process_data(localkey_slices)\n",
    "localkey_segment_pcvs.get_results()"
   ]
  },
  {
   "cell_type": "markdown",
   "metadata": {},
   "source": [
    "Applying a `PitchClassVectors` Analyzer to the localkey segments that have been grouped by keys, seems to not make much of a difference\n",
    "(except that this one here does not normalize):"
   ]
  },
  {
   "cell_type": "code",
   "execution_count": null,
   "metadata": {},
   "outputs": [],
   "source": [
    "grouped_localkey_pcvs = dc.PitchClassVectors(pitch_class_format='pc').process_data(grouped_localkey_slices)\n",
    "grouped_localkey_pcvs.get_group_results()"
   ]
  },
  {
   "cell_type": "code",
   "execution_count": null,
   "metadata": {},
   "outputs": [],
   "source": [
    "grouped_localkey_pcvs.get_results()"
   ]
  },
  {
   "cell_type": "markdown",
   "metadata": {},
   "source": [
    "However, the previous grouping allows us to iterate through the grouped pitch class vectors, e.g. for summing them up for all segments in major and minor respectively:"
   ]
  },
  {
   "cell_type": "code",
   "execution_count": null,
   "metadata": {},
   "outputs": [],
   "source": [
    "for (mode,), pcvs in grouped_localkey_pcvs.iter_group_results():\n",
    "    print(f\"PITCH CLASS PROFILE FOR ALL {'MINOR' if mode else 'MAJOR'} SEGMENTS:\")\n",
    "    display(pcvs / pcvs.sum())"
   ]
  },
  {
   "cell_type": "markdown",
   "metadata": {},
   "source": [
    "### Analyzing slice infos"
   ]
  },
  {
   "cell_type": "code",
   "execution_count": null,
   "metadata": {},
   "outputs": [],
   "source": [
    "lk_per_piece = dc.PieceGrouper().process_data(localkey_slices)\n",
    "lokalkeys_per_piece = dc.LocalKeySequence().process_data(lk_per_piece)\n",
    "lokalkeys_per_piece.get_results()"
   ]
  },
  {
   "cell_type": "code",
   "execution_count": null,
   "metadata": {},
   "outputs": [],
   "source": [
    "unique_localkeys = dc.LocalKeyUnique().process_data(lk_per_piece)\n",
    "unique_localkeys.get_results()"
   ]
  },
  {
   "cell_type": "code",
   "execution_count": null,
   "metadata": {},
   "outputs": [],
   "source": []
  }
 ],
 "metadata": {
  "kernelspec": {
   "display_name": "dimcat",
   "language": "python",
   "name": "dimcat"
  },
  "language_info": {
   "codemirror_mode": {
    "name": "ipython",
    "version": 3
   },
   "file_extension": ".py",
   "mimetype": "text/x-python",
   "name": "python",
   "nbconvert_exporter": "python",
   "pygments_lexer": "ipython3",
   "version": "3.10.4"
  },
  "toc": {
   "base_numbering": 1,
   "nav_menu": {},
   "number_sections": true,
   "sideBar": true,
   "skip_h1_title": false,
   "title_cell": "Table of Contents",
   "title_sidebar": "Contents",
   "toc_cell": false,
   "toc_position": {
    "height": "calc(100% - 180px)",
    "left": "10px",
    "top": "150px",
    "width": "456.933px"
   },
   "toc_section_display": true,
   "toc_window_display": true
  },
  "widgets": {
   "application/vnd.jupyter.widget-state+json": {
    "state": {},
    "version_major": 2,
    "version_minor": 0
   }
  }
 },
 "nbformat": 4,
 "nbformat_minor": 4
}
