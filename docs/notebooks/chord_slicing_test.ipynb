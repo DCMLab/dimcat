{
 "cells": [
  {
   "cell_type": "markdown",
   "id": "ce47b368",
   "metadata": {},
   "source": [
    "# Working with Harmonic Annotations"
   ]
  },
  {
   "cell_type": "code",
   "execution_count": null,
   "id": "7eed17bc",
   "metadata": {},
   "outputs": [],
   "source": [
    "import dimcat as dc\n",
    "import pandas as pd"
   ]
  },
  {
   "cell_type": "markdown",
   "id": "cb9eaf1a",
   "metadata": {},
   "source": [
    "## Load dataset\n",
    "\n",
    "Use dimcat's `Dataset` class to load a dataset.\n",
    "Each dataset consists of several subcorpora (here only `ABC`),\n",
    "which in turn consist of several pieces (here `n01_op18-1_01`, `n01_op18-1_02`, etc.).\n",
    "\n",
    "A `Dataset` has several representations of each piece (e.g. a list of chord labels or a list of notes) called *facets*.\n",
    "Each facet is represented by a dataframe.\n",
    "\n",
    "Corpora can be processed, e.g. slicing notes according to different criteria (see below).\n",
    "The output of these operations is again a dataset with facets."
   ]
  },
  {
   "cell_type": "code",
   "execution_count": null,
   "id": "d5f7c90e",
   "metadata": {},
   "outputs": [],
   "source": [
    "# this takes some time because it parses the original data, not the preprocessed tsv files\n",
    "dataset = dc.Dataset()\n",
    "dataset.load(\"./ABC\", parse_tsv=False, parse_scores=True) # make sure to parse directly from MuseScore files\n",
    "dataset.data"
   ]
  },
  {
   "cell_type": "markdown",
   "id": "08863064",
   "metadata": {},
   "source": [
    "## Get chord labels\n",
    "\n",
    "Chord labels are stored in the `expanded` facet.\n",
    "Using `.get_facet()` returns a single dataframe with all chord labels.\n",
    "Corpus, piece, and timespan (\"interval\") are encoded in an hierarchical index."
   ]
  },
  {
   "cell_type": "code",
   "execution_count": null,
   "id": "55be8286",
   "metadata": {},
   "outputs": [],
   "source": [
    "labels = dataset.get_facet(\"expanded\")\n",
    "labels"
   ]
  },
  {
   "cell_type": "markdown",
   "id": "18c3f07b",
   "metadata": {},
   "source": [
    "## Get salami slices\n",
    "\n",
    "Use the `NoteSlicer` to obtain a sliced version of the dataset.\n",
    "Querying the note facet returns the sliced notes."
   ]
  },
  {
   "cell_type": "code",
   "execution_count": null,
   "id": "e729cec1",
   "metadata": {},
   "outputs": [],
   "source": [
    "# this takes some time\n",
    "salami_dts = dc.NoteSlicer().process_data(dataset)\n",
    "salami_notes = salami_dts.get_facet(\"notes\")\n",
    "salami_notes"
   ]
  },
  {
   "cell_type": "markdown",
   "id": "08966dc3",
   "metadata": {},
   "source": [
    "# Match salami slices with chord labels\n",
    "\n",
    "Each chord label has an `interval` index that encodes its timespan.\n",
    "We can use this to find the corresponding slices from the previous step.\n",
    "\n",
    "Let's try this for a single chord. Start by getting the interval of the first chord in the first piece:"
   ]
  },
  {
   "cell_type": "code",
   "execution_count": null,
   "id": "8d44373c",
   "metadata": {},
   "outputs": [],
   "source": [
    "# zoom in on the chords in one piece\n",
    "chords = labels.loc[('ABC', 'n01op18-1_01')]\n",
    "chords"
   ]
  },
  {
   "cell_type": "code",
   "execution_count": null,
   "id": "f32f34a9",
   "metadata": {},
   "outputs": [],
   "source": [
    "# get the interval of the first chord...\n",
    "chord0_interval = chords.index[0]\n",
    "chord0_interval # this is a pandas Interval"
   ]
  },
  {
   "cell_type": "code",
   "execution_count": null,
   "id": "cded175d",
   "metadata": {},
   "outputs": [],
   "source": [
    "# and the chord itself\n",
    "chord0 = chords.loc[chord0_interval]\n",
    "chord0"
   ]
  },
  {
   "cell_type": "markdown",
   "id": "b7b0e7a4",
   "metadata": {},
   "source": [
    "Finally, find all slices in the same piece that overlap with the chord:"
   ]
  },
  {
   "cell_type": "code",
   "execution_count": null,
   "id": "24865364",
   "metadata": {},
   "outputs": [],
   "source": [
    "salamis = salami_notes.loc[(\"ABC\", \"n01op18-1_01\")]\n",
    "salamis[salamis.index.get_level_values(0).overlaps(chord0_interval)]"
   ]
  },
  {
   "cell_type": "markdown",
   "id": "2efcdd1d",
   "metadata": {},
   "source": [
    "## Rest..."
   ]
  },
  {
   "cell_type": "code",
   "execution_count": null,
   "id": "bcd5c100",
   "metadata": {},
   "outputs": [],
   "source": [
    "salami_notes.loc[(\"ABC\", \"n01op18-1_01\")]"
   ]
  },
  {
   "cell_type": "code",
   "execution_count": null,
   "id": "506ddec3",
   "metadata": {},
   "outputs": [],
   "source": [
    "salami_notes.loc[(\"ABC\", \"n01op18-1_01\", pd.Interval(12.0,13.0,closed='left'))]"
   ]
  },
  {
   "cell_type": "code",
   "execution_count": null,
   "id": "fbc944f4",
   "metadata": {},
   "outputs": [],
   "source": [
    "str(pd.Interval(0.0,1.0,closed='left'))"
   ]
  },
  {
   "cell_type": "code",
   "execution_count": null,
   "id": "fe006e51",
   "metadata": {},
   "outputs": [],
   "source": [
    "salami_dts.get_slice_info()"
   ]
  }
 ],
 "metadata": {
  "kernelspec": {
   "display_name": "dimcat",
   "language": "python",
   "name": "dimcat"
  }
 },
 "nbformat": 4,
 "nbformat_minor": 5
}
