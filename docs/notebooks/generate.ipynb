{
 "cells": [
  {
   "cell_type": "markdown",
   "id": "8ac33c60",
   "metadata": {
    "tags": []
   },
   "source": [
    "# Corpus overview plots"
   ]
  },
  {
   "cell_type": "code",
   "execution_count": null,
   "id": "3459cc9c",
   "metadata": {},
   "outputs": [],
   "source": [
    "%load_ext autoreload\n",
    "%autoreload 2\n",
    "import os\n",
    "from fractions import Fraction\n",
    "from IPython.display import HTML\n",
    "import ms3\n",
    "import dimcat as dc\n",
    "from git import Repo\n",
    "import plotly.express as px\n",
    "import colorlover\n",
    "import pandas as pd\n",
    "pd.set_option(\"display.max_columns\", 100)"
   ]
  },
  {
   "cell_type": "code",
   "execution_count": null,
   "id": "898fc943",
   "metadata": {},
   "outputs": [],
   "source": [
    "corpus_path = \"~/romantic_piano_corpus\"\n",
    "corpus_path = os.path.expanduser(corpus_path)\n",
    "repo = Repo(corpus_path)\n",
    "notebook_repo = Repo('.')\n",
    "print(f\"data_reports @ {notebook_repo.commit().hexsha[:7]}\")\n",
    "print(f\"{os.path.basename(corpus_path)} @ {repo.commit().hexsha[:7]}\")\n",
    "print(f\"dimcat version {dc.__version__}\")\n",
    "print(f\"ms3 version {ms3.__version__}\")"
   ]
  },
  {
   "cell_type": "code",
   "execution_count": null,
   "id": "6bf96fea",
   "metadata": {},
   "outputs": [],
   "source": [
    "STD_LAYOUT = {\n",
    " 'paper_bgcolor': '#FFFFFF',\n",
    " 'plot_bgcolor': '#FFFFFF',\n",
    " 'margin': {'l': 40, 'r': 0, 'b': 0, 't': 40, 'pad': 0},\n",
    " 'font': {'size': 15}\n",
    "}\n",
    "#OUTPUT_DIR = \"/home/hentsche/Documents/phd/romantic_piano_corpus_report/figures/\"\n",
    "OUTPUT_DIR = os.path.join(corpus_path, 'figures')\n",
    "os.makedirs(OUTPUT_DIR, exist_ok=True)\n",
    "#HTML(colorlover.to_html(colorlover.scales))\n",
    "HTML(colorlover.to_html(colorlover.scales['9']['qual']['Paired']))"
   ]
  },
  {
   "cell_type": "code",
   "execution_count": null,
   "id": "eb527aac",
   "metadata": {},
   "outputs": [],
   "source": [
    "fig = px.colors.qualitative.swatches()\n",
    "fig.show()"
   ]
  },
  {
   "cell_type": "code",
   "execution_count": null,
   "id": "30eca14a",
   "metadata": {},
   "outputs": [],
   "source": [
    "corpus_color_scale = px.colors.qualitative.D3"
   ]
  },
  {
   "cell_type": "markdown",
   "id": "1b8d830f",
   "metadata": {},
   "source": [
    "# Overview"
   ]
  },
  {
   "cell_type": "code",
   "execution_count": null,
   "id": "610f032f",
   "metadata": {},
   "outputs": [],
   "source": [
    "dataset = dc.Dataset()\n",
    "dataset.load(directory=corpus_path)\n",
    "dataset.data"
   ]
  },
  {
   "cell_type": "markdown",
   "id": "7aca7340",
   "metadata": {},
   "source": [
    "## Metadata"
   ]
  },
  {
   "cell_type": "code",
   "execution_count": null,
   "id": "ed093266",
   "metadata": {},
   "outputs": [],
   "source": [
    "all_metadata = dataset.data.metadata()\n",
    "print(f\"Concatenated 'metadata.tsv' files cover {len(all_metadata)} of the {len(dataset.pieces)} scores.\")\n",
    "all_metadata.groupby(level=0).nth(0)"
   ]
  },
  {
   "cell_type": "code",
   "execution_count": null,
   "id": "591223f0",
   "metadata": {},
   "outputs": [],
   "source": [
    "print(\"VALUE COUNTS OF THE COLUMN 'annotators'\")\n",
    "all_metadata.annotators.value_counts()"
   ]
  },
  {
   "cell_type": "code",
   "execution_count": null,
   "id": "1081faaa",
   "metadata": {},
   "outputs": [],
   "source": [
    "print(f\"Composition dates range from {all_metadata.composed_start.min()} {all_metadata.composed_start.idxmin()} \"\n",
    "      f\"to {all_metadata.composed_end.max()} {all_metadata.composed_end.idxmax()}.\")"
   ]
  },
  {
   "cell_type": "code",
   "execution_count": null,
   "id": "198cb2fe",
   "metadata": {
    "tags": []
   },
   "outputs": [],
   "source": [
    "annotated = dc.IsAnnotatedFilter().process_data(dataset)\n",
    "print(f\"Before: {len(dataset.indices[()])} IDs, after filtering: {len(annotated.indices[()])}\")"
   ]
  },
  {
   "cell_type": "markdown",
   "id": "f4fe52d9",
   "metadata": {},
   "source": [
    "**Choose here if you want to see stats for all or only for annotated scores.**"
   ]
  },
  {
   "cell_type": "code",
   "execution_count": null,
   "id": "b4a6763e",
   "metadata": {},
   "outputs": [],
   "source": [
    "#selected = dataset\n",
    "selected = annotated"
   ]
  },
  {
   "cell_type": "markdown",
   "id": "89f10829",
   "metadata": {},
   "source": [
    "## Measures"
   ]
  },
  {
   "cell_type": "code",
   "execution_count": null,
   "id": "d2f20c63",
   "metadata": {},
   "outputs": [],
   "source": [
    "all_measures = selected.get_facet('measures')\n",
    "print(f\"{len(all_measures.index)} measures over {len(all_measures.groupby(level=[0,1]))} files.\")\n",
    "all_measures.head()"
   ]
  },
  {
   "cell_type": "code",
   "execution_count": null,
   "id": "9a541ef4",
   "metadata": {},
   "outputs": [],
   "source": [
    "print(\"Distribution of time signatures per XML measure (MC):\")\n",
    "all_measures.timesig.value_counts(dropna=False)"
   ]
  },
  {
   "cell_type": "markdown",
   "id": "62d5b974",
   "metadata": {},
   "source": [
    "## Notes"
   ]
  },
  {
   "cell_type": "code",
   "execution_count": null,
   "id": "8e6ed416",
   "metadata": {},
   "outputs": [],
   "source": [
    "all_notes = selected.get_facet('notes')\n",
    "print(f\"{len(all_notes.index)} notes over {len(all_notes.groupby(level=[0,1]))} files.\")\n",
    "all_notes.head()"
   ]
  },
  {
   "cell_type": "markdown",
   "id": "37cecbac",
   "metadata": {},
   "source": [
    "### Notes and staves"
   ]
  },
  {
   "cell_type": "code",
   "execution_count": null,
   "id": "4d9d2fad",
   "metadata": {},
   "outputs": [],
   "source": [
    "print(\"Distribution of notes over staves:\")\n",
    "all_notes.staff.value_counts()"
   ]
  },
  {
   "cell_type": "code",
   "execution_count": null,
   "id": "bac0b5fa",
   "metadata": {},
   "outputs": [],
   "source": [
    "print(\"Distribution of notes over staves for all pieces with more than two staves\\n\")\n",
    "for group, df in all_notes.groupby(level=[0,1]):\n",
    "    if (df.staff > 2).any():\n",
    "        print(group)\n",
    "        print(df.staff.value_counts().to_dict())"
   ]
  },
  {
   "cell_type": "code",
   "execution_count": null,
   "id": "9dac1c15",
   "metadata": {},
   "outputs": [],
   "source": [
    "all_notes[all_notes.staff > 2].groupby(level=[0,1]).staff.value_counts()"
   ]
  },
  {
   "cell_type": "markdown",
   "id": "30ae7302",
   "metadata": {},
   "source": [
    "## Harmony labels\n",
    "\n",
    "All symbols, independent of the local key (the mode of which changes their semantics)."
   ]
  },
  {
   "cell_type": "code",
   "execution_count": null,
   "id": "08666900",
   "metadata": {},
   "outputs": [],
   "source": [
    "all_annotations = annotated.get_facet('expanded')\n",
    "all_annotations.head()"
   ]
  },
  {
   "cell_type": "code",
   "execution_count": null,
   "id": "388ce33a",
   "metadata": {},
   "outputs": [],
   "source": [
    "no_chord = all_annotations.root.isna()\n",
    "print(f\"Concatenated annotation tables contains {all_annotations.shape[0]} rows. {no_chord.sum()} of them are not chords. Their values are:\")\n",
    "all_annotations.label[no_chord].value_counts(dropna=False).to_dict()"
   ]
  },
  {
   "cell_type": "code",
   "execution_count": null,
   "id": "b7ec8a71",
   "metadata": {},
   "outputs": [],
   "source": [
    "all_chords = all_annotations[~no_chord].copy()\n",
    "print(f\"Corpus contains {all_chords.shape[0]} tokens and {len(all_chords.chord.unique())} types over {len(all_chords.groupby(level=[0,1]))} documents.\")"
   ]
  },
  {
   "cell_type": "code",
   "execution_count": null,
   "id": "d9026d1c",
   "metadata": {},
   "outputs": [],
   "source": [
    "#from ms3 import write_tsv\n",
    "#write_tsv(all_annotations[all_annotations.pedalend.notna()], './issues/pedalpoints.tsv', pre_process=False)"
   ]
  },
  {
   "cell_type": "markdown",
   "id": "98502e3c",
   "metadata": {},
   "source": [
    "## Corpus summary"
   ]
  },
  {
   "cell_type": "code",
   "execution_count": null,
   "id": "7319303d",
   "metadata": {},
   "outputs": [],
   "source": [
    "summary = all_metadata\n",
    "if selected == annotated:\n",
    "    summary = summary[summary.label_count > 0].copy()\n",
    "summary.length_qb = all_measures.groupby(level=[0,1]).act_dur.sum() * 4.0\n",
    "summary = pd.concat([summary,\n",
    "                     all_notes.groupby(level=[0,1]).size().rename('notes'),\n",
    "                    ], axis=1)\n",
    "summary.groupby(level=0).describe().dropna(axis=1, how='all')"
   ]
  },
  {
   "cell_type": "code",
   "execution_count": null,
   "id": "eb93b38c",
   "metadata": {},
   "outputs": [],
   "source": [
    "mean_composition_years = summary.groupby(level=0).composed_end.mean().astype(int).sort_values()\n",
    "chronological_order = mean_composition_years.index.to_list()\n",
    "corpus_colors = dict(zip(chronological_order, corpus_color_scale))\n",
    "bar_data = pd.concat([mean_composition_years.rename('year'), \n",
    "                      summary.groupby(level='corpus').size().rename('pieces')],\n",
    "                     axis=1\n",
    "                    ).reset_index()\n",
    "fig = px.bar(bar_data, x='year', y='pieces', color='corpus',\n",
    "             color_discrete_map=corpus_colors,\n",
    "            height=350, width=800,\n",
    "            )\n",
    "fig.update_traces(width=5)\n",
    "fig.update_layout(**STD_LAYOUT)\n",
    "fig.update_yaxes(gridcolor='lightgrey')\n",
    "fig.write_image(os.path.join(OUTPUT_DIR, \"corpus_sizes.png\"), scale=2)\n",
    "fig.update_traces(width=5)"
   ]
  },
  {
   "cell_type": "code",
   "execution_count": null,
   "id": "fad78daf",
   "metadata": {},
   "outputs": [],
   "source": [
    "corpus_names = dict(\n",
    "    beethoven_piano_sonatas='Beethoven Sonatas',\n",
    "    chopin_mazurkas='Chopin Mazurkas',\n",
    "    debussy_suite_bergamasque='Debussy Suite',\n",
    "    dvorak_silhouettes=\"Dvořák Silhouettes\",\n",
    "    grieg_lyric_pieces=\"Grieg Lyric Pieces\",\n",
    "    liszt_pelerinage=\"Liszt Années\",\n",
    "    medtner_tales=\"Medtner Tales\",\n",
    "    schumann_kinderszenen=\"Schumann Kinderszenen\",\n",
    "    tchaikovsky_seasons=\"Tchaikovsky Seasons\"\n",
    ")\n",
    "chronological_corpus_names = [corpus_names[corp] for corp in chronological_order]\n",
    "corpus_name_colors = {corpus_names[corp]: color for corp, color in corpus_colors.items()}\n",
    "all_annotations['corpus_name'] = all_annotations.index.get_level_values(0).map(corpus_names)\n",
    "all_chords['corpus_name'] = all_chords.index.get_level_values(0).map(corpus_names)"
   ]
  },
  {
   "cell_type": "code",
   "execution_count": null,
   "id": "189fe697",
   "metadata": {},
   "outputs": [],
   "source": [
    "bar_data = summary.reset_index().groupby(['composed_end', 'corpus']).size().rename('counts').reset_index()\n",
    "px.bar(bar_data, x='composed_end', y='counts', color='corpus', color_discrete_map=corpus_colors)"
   ]
  },
  {
   "cell_type": "code",
   "execution_count": null,
   "id": "fba9f0f1",
   "metadata": {},
   "outputs": [],
   "source": [
    "hist_data = summary.reset_index()\n",
    "hist_data.corpus = hist_data.corpus.map(corpus_names)\n",
    "hist_data.head()"
   ]
  },
  {
   "cell_type": "code",
   "execution_count": null,
   "id": "0e5273eb",
   "metadata": {},
   "outputs": [],
   "source": [
    "fig = px.histogram(hist_data, x='composed_end', color='corpus',\n",
    "                   labels=dict(composed_end='decade',\n",
    "                               count='pieces',\n",
    "                              ),\n",
    "                   color_discrete_map=corpus_name_colors,\n",
    "                   width=1000, height=400,\n",
    "                  )\n",
    "fig.update_traces(xbins=dict(\n",
    "    size=10\n",
    "))\n",
    "fig.update_layout(**STD_LAYOUT)\n",
    "fig.update_yaxes(gridcolor='lightgrey')\n",
    "fig.write_image(os.path.join(OUTPUT_DIR, \"corpus_size_histogram.png\"), scale=2)\n",
    "fig.show()"
   ]
  },
  {
   "cell_type": "code",
   "execution_count": null,
   "id": "5bdbe33e",
   "metadata": {},
   "outputs": [],
   "source": [
    "summary.columns"
   ]
  },
  {
   "cell_type": "code",
   "execution_count": null,
   "id": "8098b6b4",
   "metadata": {},
   "outputs": [],
   "source": [
    "corpus_metadata = summary.groupby(level=0)\n",
    "n_pieces = corpus_metadata.size().rename('pieces')\n",
    "absolute_numbers = dict(\n",
    "    measures = corpus_metadata.last_mn.sum(),\n",
    "    length = corpus_metadata.length_qb.sum(),\n",
    "    notes = corpus_metadata.notes.sum(),\n",
    "    labels = corpus_metadata.label_count.sum(),\n",
    ")\n",
    "absolute = pd.DataFrame.from_dict(absolute_numbers)\n",
    "relative = absolute.div(n_pieces, axis=0)\n",
    "complete_summary = pd.concat([pd.concat([n_pieces, absolute], axis=1), relative, absolute.iloc[:,2:].div(absolute.measures, axis=0)], axis=1, keys=['absolute', 'per piece', 'per measure'])\n",
    "complete_summary = complete_summary.apply(pd.to_numeric).round(2)\n",
    "complete_summary.index = complete_summary.index.map(corpus_names)\n",
    "complete_summary"
   ]
  },
  {
   "cell_type": "code",
   "execution_count": null,
   "id": "5c3ede4b",
   "metadata": {},
   "outputs": [],
   "source": [
    "sum_row = pd.DataFrame(complete_summary.sum(), columns=['sum']).T\n",
    "sum_row.iloc[:,5:] = ''\n",
    "summary_with_sum = pd.concat([complete_summary, sum_row])\n",
    "summary_with_sum.loc[:, [('absolute', 'notes'), ('absolute', 'labels')]] = summary_with_sum[[('absolute', 'notes'), ('absolute', 'labels')]].astype(int)\n",
    "summary_with_sum"
   ]
  },
  {
   "cell_type": "code",
   "execution_count": null,
   "id": "8dccaaf8",
   "metadata": {},
   "outputs": [],
   "source": [
    "pd.concat([summary, complete_summary.sum()])"
   ]
  },
  {
   "cell_type": "code",
   "execution_count": null,
   "id": "82c68902",
   "metadata": {},
   "outputs": [],
   "source": [
    "summary[summary.ambitus.isna()]"
   ]
  },
  {
   "cell_type": "code",
   "execution_count": null,
   "id": "ddee5fe1",
   "metadata": {},
   "outputs": [],
   "source": [
    "summary.ambitus.str.extract(r\"^(\\d+)-(\\d+)\")"
   ]
  },
  {
   "cell_type": "code",
   "execution_count": null,
   "id": "deb55360",
   "metadata": {},
   "outputs": [],
   "source": [
    "ambitus = summary.ambitus.str.extract(r\"^(\\d+)-(\\d+)\").astype(int)\n",
    "ambitus.columns = ['low', 'high']\n",
    "ambitus['range'] = ambitus.high - ambitus.low\n",
    "ambitus.head()"
   ]
  },
  {
   "cell_type": "code",
   "execution_count": null,
   "id": "70c63121",
   "metadata": {},
   "outputs": [],
   "source": [
    "ambitus.groupby(level=0).high.max()"
   ]
  },
  {
   "cell_type": "code",
   "execution_count": null,
   "id": "9ed76c8b",
   "metadata": {},
   "outputs": [],
   "source": [
    "ambitus.groupby(level=0).low.min()"
   ]
  },
  {
   "cell_type": "code",
   "execution_count": null,
   "id": "4ea5df68",
   "metadata": {},
   "outputs": [],
   "source": [
    "ambitus.groupby(level=0).range.max()"
   ]
  },
  {
   "cell_type": "code",
   "execution_count": null,
   "id": "1f5121fb",
   "metadata": {},
   "outputs": [],
   "source": [
    "ambitus.groupby(level=0).high.max() - ambitus.groupby(level=0).low.min()"
   ]
  },
  {
   "cell_type": "markdown",
   "id": "edeffaee",
   "metadata": {},
   "source": [
    "# Phrases"
   ]
  },
  {
   "cell_type": "code",
   "execution_count": null,
   "id": "3370c8cc",
   "metadata": {},
   "outputs": [],
   "source": [
    "phrase_segmented = dc.PhraseSlicer().process_data(selected)\n",
    "phrases = phrase_segmented.get_slice_info()\n",
    "print(f\"Overall number of phrases is {len(phrases.index)}\")\n",
    "phrases.head(20)"
   ]
  },
  {
   "cell_type": "code",
   "execution_count": null,
   "id": "aeb6e0dc",
   "metadata": {},
   "outputs": [],
   "source": [
    "phrase_segments = phrase_segmented.get_facet('expanded')\n",
    "phrase_segments"
   ]
  },
  {
   "cell_type": "code",
   "execution_count": null,
   "id": "03e80b99",
   "metadata": {},
   "outputs": [],
   "source": [
    "phrases[phrases.duration_qb > 50]"
   ]
  },
  {
   "cell_type": "code",
   "execution_count": null,
   "id": "ff825fd2",
   "metadata": {},
   "outputs": [],
   "source": [
    "phrase2timesigs = phrase_segments.groupby(level=[0,1,2]).timesig.unique()\n",
    "n_timesignatures_per_phrase = phrase2timesigs.map(len)\n",
    "uniform_timesigs = phrase2timesigs[n_timesignatures_per_phrase == 1].map(lambda l: l[0])\n",
    "more_than_one = n_timesignatures_per_phrase > 1\n",
    "print(f\"Filtered out the {more_than_one.sum()} phrases incorporating more than one time signature.\")\n",
    "n_timesigs = n_timesignatures_per_phrase.value_counts()\n",
    "display(n_timesigs.reset_index().rename(columns=dict(index='#time signatures', timesig='#phrases')))\n",
    "uniform_timesig_phrases = phrases.loc[uniform_timesigs.index]\n",
    "timesig_in_quarterbeats = uniform_timesigs.map(Fraction) * 4\n",
    "exact_measure_lengths = uniform_timesig_phrases.duration_qb / timesig_in_quarterbeats\n",
    "uniform_timesigs = pd.concat([exact_measure_lengths.rename('duration_measures'), uniform_timesig_phrases], axis=1)\n",
    "fig = px.histogram(uniform_timesigs, x='duration_measures', log_y=True,\n",
    "                   labels=dict(duration_measures='phrase length bin in number of measures'),\n",
    "                   color_discrete_sequence=corpus_color_scale,\n",
    "                   height=400,\n",
    "                   width = 1000,\n",
    "                  )\n",
    "fig.update_traces(xbins=dict( # bins used for histogram\n",
    "        #start=0.0,\n",
    "        #end=100.0,\n",
    "        size=1\n",
    "    ))\n",
    "fig.update_layout(**STD_LAYOUT)\n",
    "fig.update_xaxes(dtick=4, gridcolor='lightgrey')\n",
    "fig.update_yaxes(gridcolor='lightgrey')\n",
    "fig.write_image(os.path.join(OUTPUT_DIR, \"phrase_lengths.png\"), scale=2)\n",
    "fig.show()"
   ]
  },
  {
   "cell_type": "code",
   "execution_count": null,
   "id": "d9cec518",
   "metadata": {},
   "outputs": [],
   "source": [
    "uniform_timesigs[uniform_timesigs.duration_measures > 80]"
   ]
  },
  {
   "cell_type": "markdown",
   "id": "bc29f0af",
   "metadata": {},
   "source": [
    "# Keys"
   ]
  },
  {
   "cell_type": "code",
   "execution_count": null,
   "id": "583e10cb",
   "metadata": {},
   "outputs": [],
   "source": [
    "from ms3 import roman_numeral2fifths, transform, resolve_all_relative_numerals, replace_boolean_mode_by_strings\n",
    "keys_segmented = dc.LocalKeySlicer().process_data(selected)\n",
    "keys = keys_segmented.get_slice_info()\n",
    "print(f\"Overall number of key segments is {len(keys.index)}\")\n",
    "keys[\"localkey_fifths\"] = transform(keys, roman_numeral2fifths, ['localkey', 'globalkey_is_minor'])\n",
    "keys.head(20)"
   ]
  },
  {
   "cell_type": "code",
   "execution_count": null,
   "id": "0ee724f5",
   "metadata": {},
   "outputs": [],
   "source": [
    "keys.duration_qb.sum()"
   ]
  },
  {
   "cell_type": "code",
   "execution_count": null,
   "id": "4eb7e10a",
   "metadata": {},
   "outputs": [],
   "source": [
    "phrases.duration_qb.sum()"
   ]
  },
  {
   "cell_type": "code",
   "execution_count": null,
   "id": "f6edcd80",
   "metadata": {},
   "outputs": [],
   "source": [
    "key_durations = keys.groupby(['globalkey_is_minor', 'localkey']).duration_qb.sum().sort_values(ascending=False)\n",
    "print(f\"{len(key_durations)} keys overall including hierarchical such as 'III/v'.\")"
   ]
  },
  {
   "cell_type": "code",
   "execution_count": null,
   "id": "982ed392",
   "metadata": {},
   "outputs": [],
   "source": [
    "keys_resolved = resolve_all_relative_numerals(keys)\n",
    "key_resolved_durations = keys_resolved.groupby(['globalkey_is_minor', 'localkey']).duration_qb.sum().sort_values(ascending=False)\n",
    "print(f\"{len(key_resolved_durations)} keys overall after resolving hierarchical ones.\")\n",
    "key_resolved_durations"
   ]
  },
  {
   "cell_type": "code",
   "execution_count": null,
   "id": "824f2ad3",
   "metadata": {},
   "outputs": [],
   "source": [
    "pie_data = replace_boolean_mode_by_strings(key_resolved_durations.reset_index())\n",
    "px.pie(pie_data, names='localkey', values='duration_qb', facet_col='globalkey_mode', height=700)"
   ]
  },
  {
   "cell_type": "code",
   "execution_count": null,
   "id": "a1dcced5",
   "metadata": {},
   "outputs": [],
   "source": [
    "localkey_fifths_durations = keys.groupby(['localkey_fifths', 'localkey_is_minor']).duration_qb.sum()\n",
    "# sort by stacked bar length:\n",
    "localkey_fifths_durations = localkey_fifths_durations.sort_values(key=lambda S: S.index.get_level_values(0).map(S.groupby(level=0).sum()), ascending=False)\n",
    "bar_data = replace_boolean_mode_by_strings(localkey_fifths_durations.reset_index())\n",
    "bar_data.localkey_fifths = bar_data.localkey_fifths.map(ms3.fifths2iv)\n",
    "fig = px.bar(bar_data, x='localkey_fifths', y='duration_qb', color='localkey_mode', log_y=True, barmode='group',\n",
    "             labels=dict(localkey_fifths='Roots of local keys as intervallic distance from the global tonic', \n",
    "                   duration_qb='total duration in quarter notes',\n",
    "                   localkey_mode='mode'\n",
    "                  ),\n",
    "             color_discrete_sequence=corpus_color_scale,\n",
    "             width=1000)\n",
    "fig.update_layout(**STD_LAYOUT)\n",
    "fig.update_yaxes(gridcolor='lightgrey')\n",
    "fig.write_image(os.path.join(OUTPUT_DIR, \"key_segments.png\"), scale=2)\n",
    "fig.show()"
   ]
  },
  {
   "cell_type": "code",
   "execution_count": null,
   "id": "139c791b",
   "metadata": {},
   "outputs": [],
   "source": [
    "localkey_fifths_durations = keys.groupby(['localkey_fifths', 'localkey_is_minor']).duration_qb.sum()\n",
    "# sort by stacked bar length:\n",
    "bar_data = replace_boolean_mode_by_strings(localkey_fifths_durations.reset_index())\n",
    "bar_data.localkey_fifths = bar_data.localkey_fifths.map(ms3.fifths2iv)\n",
    "fig = px.bar(bar_data, x='localkey_fifths', y='duration_qb', color='localkey_mode', log_y=True, barmode='group',\n",
    "             labels=dict(localkey_fifths='Roots of local keys as intervallic distance from the global tonic', \n",
    "                   duration_qb='total duration in quarter notes',\n",
    "                   localkey_mode='mode'\n",
    "                  ),\n",
    "             color_discrete_sequence=corpus_color_scale,\n",
    "             width=1000)\n",
    "fig.update_layout(**STD_LAYOUT)\n",
    "fig.update_yaxes(gridcolor='lightgrey')\n",
    "fig.write_image(os.path.join(OUTPUT_DIR, \"key_segments_line_of_fifths.png\"), scale=2)\n",
    "fig.show()"
   ]
  },
  {
   "cell_type": "code",
   "execution_count": null,
   "id": "a8879ac1",
   "metadata": {},
   "outputs": [],
   "source": [
    "localkey_fifths_durations_stacked = localkey_fifths_durations.groupby(level=0).sum().sort_values()\n",
    "pd.concat([localkey_fifths_durations_stacked, localkey_fifths_durations_stacked.rename('fraction') / localkey_fifths_durations_stacked.sum()], axis=1)"
   ]
  },
  {
   "cell_type": "code",
   "execution_count": null,
   "id": "8fb14375",
   "metadata": {},
   "outputs": [],
   "source": [
    "keys[keys.localkey_fifths == -9]"
   ]
  },
  {
   "cell_type": "code",
   "execution_count": null,
   "id": "ed1d8f9b",
   "metadata": {},
   "outputs": [],
   "source": [
    "keys[keys.localkey_fifths == 10]"
   ]
  },
  {
   "cell_type": "markdown",
   "id": "9e2eda0e",
   "metadata": {},
   "source": [
    "# Cadences"
   ]
  },
  {
   "cell_type": "code",
   "execution_count": null,
   "id": "e18fd1a3",
   "metadata": {},
   "outputs": [],
   "source": [
    "all_annotations.cadence.value_counts()"
   ]
  },
  {
   "cell_type": "code",
   "execution_count": null,
   "id": "282d5d40",
   "metadata": {},
   "outputs": [],
   "source": [
    "all_annotations.groupby(\"corpus_name\").cadence.value_counts()"
   ]
  },
  {
   "cell_type": "code",
   "execution_count": null,
   "id": "fd1f2fc5",
   "metadata": {},
   "outputs": [],
   "source": [
    "cadence_count_per_corpus = all_annotations.groupby(\"corpus_name\").cadence.value_counts().sort_values(ascending=False)\n",
    "cadence_count_per_corpus.groupby(level=0).sum()"
   ]
  },
  {
   "cell_type": "code",
   "execution_count": null,
   "id": "a56cb369",
   "metadata": {},
   "outputs": [],
   "source": [
    "cadence_fraction_per_corpus = cadence_count_per_corpus / cadence_count_per_corpus.groupby(level=0).sum()\n",
    "fig = px.bar(cadence_fraction_per_corpus.rename('count').reset_index(), x='corpus_name', y='count', color='cadence',\n",
    "             labels=dict(count='fraction', corpus=''), \n",
    "             height=400, width=900,\n",
    "       category_orders=dict(corpus_name=chronological_corpus_names))\n",
    "      #color_discrete_map=cadence_colors, \n",
    "\n",
    "fig.update_layout(**STD_LAYOUT)\n",
    "fig.update_yaxes(gridcolor='lightgrey')\n",
    "fig.write_image(os.path.join(OUTPUT_DIR, \"cadences.png\"), scale=2)\n",
    "fig.show()"
   ]
  },
  {
   "cell_type": "markdown",
   "id": "ad1f02dc",
   "metadata": {},
   "source": [
    "# Harmony labels\n",
    "## Unigrams\n",
    "For computing unigram statistics, the tokens need to be grouped by their occurrence within a major or a minor key because this changes their meaning. To that aim, the annotated corpus needs to be sliced into contiguous localkey segments which are then grouped into a major (`is_minor=False`) and a minor group."
   ]
  },
  {
   "cell_type": "code",
   "execution_count": null,
   "id": "a61f0235",
   "metadata": {},
   "outputs": [],
   "source": [
    "root_durations = all_chords[all_chords.root.between(-5,6)].groupby(['root', 'chord_type']).duration_qb.sum()\n",
    "# sort by stacked bar length:\n",
    "#root_durations = root_durations.sort_values(key=lambda S: S.index.get_level_values(0).map(S.groupby(level=0).sum()), ascending=False)\n",
    "bar_data = root_durations.reset_index()\n",
    "bar_data.root = bar_data.root.map(ms3.fifths2iv)\n",
    "px.bar(bar_data, x='root', y='duration_qb', color='chord_type')"
   ]
  },
  {
   "cell_type": "code",
   "execution_count": null,
   "id": "911e8b9e",
   "metadata": {},
   "outputs": [],
   "source": [
    "relative_roots = all_chords[['numeral', 'duration_qb', 'relativeroot', 'localkey_is_minor', 'chord_type']].copy()\n",
    "relative_roots['relativeroot_resolved'] = transform(relative_roots, ms3.resolve_relative_keys, ['relativeroot', 'localkey_is_minor'])\n",
    "has_rel = relative_roots.relativeroot_resolved.notna()\n",
    "relative_roots.loc[has_rel, 'localkey_is_minor'] = relative_roots.loc[has_rel, 'relativeroot_resolved'].str.islower()\n",
    "relative_roots['root'] = transform(relative_roots, roman_numeral2fifths, ['numeral', 'localkey_is_minor'])\n",
    "chord_type_frequency = all_chords.chord_type.value_counts()\n",
    "replace_rare = ms3.map_dict({t: 'other' for t in chord_type_frequency[chord_type_frequency < 500].index})\n",
    "relative_roots['type_reduced'] = relative_roots.chord_type.map(replace_rare)\n",
    "#is_special = relative_roots.chord_type.isin(('It', 'Ger', 'Fr'))\n",
    "#relative_roots.loc[is_special, 'root'] = -4"
   ]
  },
  {
   "cell_type": "code",
   "execution_count": null,
   "id": "d49567d3",
   "metadata": {},
   "outputs": [],
   "source": [
    "root_durations = relative_roots.groupby(['root', 'type_reduced']).duration_qb.sum().sort_values(ascending=False)\n",
    "bar_data = root_durations.reset_index()\n",
    "bar_data.root = bar_data.root.map(ms3.fifths2iv)\n",
    "root_order = bar_data.groupby('root').duration_qb.sum().sort_values(ascending=False).index.to_list()\n",
    "type_colors = dict(zip(('Mm7', 'M', 'o7', 'o', 'mm7', 'm', '%7', 'MM7', 'other'), colorlover.scales['9']['qual']['Paired']))\n",
    "fig = px.bar(bar_data, x='root', y='duration_qb', color='type_reduced', barmode='group', log_y=True,\n",
    "             color_discrete_map=type_colors, \n",
    "             category_orders=dict(root=root_order,\n",
    "                                  type_reduced=relative_roots.type_reduced.value_counts().index.to_list(),\n",
    "                                 ),\n",
    "            labels=dict(root=\"intervallic difference between chord root to the local or secondary tonic\",\n",
    "                        duration_qb=\"duration in quarter notes\",\n",
    "                        type_reduced=\"chord type\",\n",
    "                       ),\n",
    "             width=1000,\n",
    "             height=400,\n",
    "            )\n",
    "fig.update_layout(**STD_LAYOUT,\n",
    "                  legend=dict(\n",
    "                      orientation='h',\n",
    "                      xanchor=\"right\",\n",
    "                      x=1,\n",
    "                      y=1,\n",
    "                  )\n",
    "                 )\n",
    "fig.update_yaxes(gridcolor='lightgrey')\n",
    "fig.write_image(os.path.join(OUTPUT_DIR, \"chord_roots.png\"), scale=2)\n",
    "fig.show()"
   ]
  },
  {
   "cell_type": "code",
   "execution_count": null,
   "id": "3664dd23",
   "metadata": {},
   "outputs": [],
   "source": [
    "print(f\"Reduced to {len(set(bar_data.iloc[:,:2].itertuples(index=False, name=None)))} types. Paper cites the sum of types in major and types in minor (see below), treating them as distinct.\")"
   ]
  },
  {
   "cell_type": "code",
   "execution_count": null,
   "id": "08edcab1",
   "metadata": {},
   "outputs": [],
   "source": [
    "dim_or_aug = bar_data[bar_data.root.str.startswith(\"a\") | bar_data.root.str.startswith(\"d\")].duration_qb.sum()\n",
    "complete = bar_data.duration_qb.sum()\n",
    "print(f\"On diminished or augmented scale degrees: {dim_or_aug} / {complete} = {dim_or_aug / complete}\")"
   ]
  },
  {
   "cell_type": "code",
   "execution_count": null,
   "id": "b90727b0",
   "metadata": {},
   "outputs": [],
   "source": [
    "mode_slices = dc.ModeGrouper().process_data(keys_segmented)"
   ]
  },
  {
   "cell_type": "markdown",
   "id": "8de79c77",
   "metadata": {},
   "source": [
    "### Whole dataset"
   ]
  },
  {
   "cell_type": "code",
   "execution_count": null,
   "id": "62e5f43c",
   "metadata": {},
   "outputs": [],
   "source": [
    "mode_slices.get_slice_info()"
   ]
  },
  {
   "cell_type": "code",
   "execution_count": null,
   "id": "796156e4",
   "metadata": {},
   "outputs": [],
   "source": [
    "unigrams = dc.ChordSymbolUnigrams(once_per_group=True).process_data(mode_slices)"
   ]
  },
  {
   "cell_type": "code",
   "execution_count": null,
   "id": "3ac51a2f",
   "metadata": {},
   "outputs": [],
   "source": [
    "unigrams.group2pandas = \"group_of_series2series\""
   ]
  },
  {
   "cell_type": "code",
   "execution_count": null,
   "id": "75000ee8",
   "metadata": {},
   "outputs": [],
   "source": [
    "unigrams.get(as_pandas=True)"
   ]
  },
  {
   "cell_type": "code",
   "execution_count": null,
   "id": "33a6befa",
   "metadata": {},
   "outputs": [],
   "source": [
    "modes = {True: 'MINOR', False: 'MAJOR'}\n",
    "for (is_minor,), ugs in unigrams.iter():\n",
    "    print(f\"{modes[is_minor]} UNIGRAMS\\n{ugs.shape[0]} types, {ugs.sum()} tokens\")\n",
    "    print(ugs.head(20).to_string())"
   ]
  },
  {
   "cell_type": "markdown",
   "id": "a00c22aa",
   "metadata": {},
   "source": [
    "### Per corpus"
   ]
  },
  {
   "cell_type": "code",
   "execution_count": null,
   "id": "152fc3ea",
   "metadata": {},
   "outputs": [],
   "source": [
    "corpus_wise_unigrams = dc.Pipeline([dc.CorpusGrouper(), dc.ChordSymbolUnigrams(once_per_group=True)]).process_data(mode_slices)"
   ]
  },
  {
   "cell_type": "code",
   "execution_count": null,
   "id": "94e3f1e3",
   "metadata": {},
   "outputs": [],
   "source": [
    "corpus_wise_unigrams.get()"
   ]
  },
  {
   "cell_type": "code",
   "execution_count": null,
   "id": "997494a6",
   "metadata": {},
   "outputs": [],
   "source": [
    "for (is_minor, corpus_name), ugs in corpus_wise_unigrams.iter():\n",
    "    print(f\"{corpus_name} {modes[is_minor]} unigrams ({ugs.shape[0]} types, {ugs.sum()} tokens)\")\n",
    "    print(ugs.head(5).to_string())"
   ]
  },
  {
   "cell_type": "code",
   "execution_count": null,
   "id": "73724abf",
   "metadata": {},
   "outputs": [],
   "source": [
    "types_shared_between_corpora = {}\n",
    "for (is_minor, corpus_name), ugs in corpus_wise_unigrams.iter():\n",
    "    if is_minor in types_shared_between_corpora:\n",
    "        types_shared_between_corpora[is_minor] = types_shared_between_corpora[is_minor].intersection(ugs.index) \n",
    "    else:\n",
    "        types_shared_between_corpora[is_minor] = set(ugs.index)\n",
    "types_shared_between_corpora = {k: sorted(v, key=lambda x: unigrams.get()[(k, x)], reverse=True) for k, v in types_shared_between_corpora.items()}\n",
    "n_types = {k: len(v) for k, v in types_shared_between_corpora.items()}\n",
    "print(f\"Chords which occur in all corpora, sorted by descending global frequency:\\n{types_shared_between_corpora}\\nCounts: {n_types}\")"
   ]
  },
  {
   "cell_type": "markdown",
   "id": "ed0e4f41",
   "metadata": {},
   "source": [
    "### Per piece"
   ]
  },
  {
   "cell_type": "code",
   "execution_count": null,
   "id": "a399ef6d",
   "metadata": {},
   "outputs": [],
   "source": [
    "piece_wise_unigrams = dc.Pipeline([dc.PieceGrouper(), dc.ChordSymbolUnigrams(once_per_group=True)]).process_data(mode_slices)"
   ]
  },
  {
   "cell_type": "code",
   "execution_count": null,
   "id": "9b2c26ea",
   "metadata": {},
   "outputs": [],
   "source": [
    "piece_wise_unigrams.get()"
   ]
  },
  {
   "cell_type": "code",
   "execution_count": null,
   "id": "5e89a195",
   "metadata": {},
   "outputs": [],
   "source": [
    "types_shared_between_pieces = {}\n",
    "for (is_minor, corpus_name), ugs in piece_wise_unigrams.iter():\n",
    "    if is_minor in types_shared_between_pieces:\n",
    "        types_shared_between_pieces[is_minor] = types_shared_between_pieces[is_minor].intersection(ugs.index) \n",
    "    else:\n",
    "        types_shared_between_pieces[is_minor] = set(ugs.index)\n",
    "print(types_shared_between_pieces)"
   ]
  },
  {
   "cell_type": "markdown",
   "id": "0852debf",
   "metadata": {},
   "source": [
    "## Bigrams"
   ]
  },
  {
   "cell_type": "markdown",
   "id": "4ddbc25f",
   "metadata": {},
   "source": [
    "### Whole dataset"
   ]
  },
  {
   "cell_type": "code",
   "execution_count": null,
   "id": "359286a5",
   "metadata": {},
   "outputs": [],
   "source": [
    "bigrams = dc.ChordSymbolBigrams(once_per_group=True).process_data(mode_slices)"
   ]
  },
  {
   "cell_type": "code",
   "execution_count": null,
   "id": "cbe66465",
   "metadata": {},
   "outputs": [],
   "source": [
    "bigrams.get()"
   ]
  },
  {
   "cell_type": "code",
   "execution_count": null,
   "id": "d893ef4b",
   "metadata": {},
   "outputs": [],
   "source": [
    "modes = {True: 'MINOR', False: 'MAJOR'}\n",
    "for (is_minor,), ugs in bigrams.iter():\n",
    "    print(f\"{modes[is_minor]} BIGRAMS\\n{ugs.shape[0]} transition types, {ugs.sum()} tokens\")\n",
    "    print(ugs.head(20).to_string())"
   ]
  },
  {
   "cell_type": "markdown",
   "id": "3e24da2a",
   "metadata": {},
   "source": [
    "### Per corpus"
   ]
  },
  {
   "cell_type": "code",
   "execution_count": null,
   "id": "422fb42e",
   "metadata": {},
   "outputs": [],
   "source": [
    "corpus_wise_bigrams = dc.Pipeline([dc.CorpusGrouper(), dc.ChordSymbolBigrams(once_per_group=True)]).process_data(mode_slices)"
   ]
  },
  {
   "cell_type": "code",
   "execution_count": null,
   "id": "d5e5e67c",
   "metadata": {},
   "outputs": [],
   "source": [
    "corpus_wise_bigrams.get()"
   ]
  },
  {
   "cell_type": "code",
   "execution_count": null,
   "id": "75cad799",
   "metadata": {},
   "outputs": [],
   "source": [
    "for (is_minor, corpus_name), ugs in corpus_wise_bigrams.iter():\n",
    "    print(f\"{corpus_name} {modes[is_minor]} bigrams ({ugs.shape[0]} transition types, {ugs.sum()} tokens)\")\n",
    "    print(ugs.head(5).to_string())"
   ]
  },
  {
   "cell_type": "code",
   "execution_count": null,
   "id": "40fb9f86",
   "metadata": {},
   "outputs": [],
   "source": [
    "normalized_corpus_unigrams = {group: (100 * ugs / ugs.sum()).round(1).rename(\"frequency\") for group, ugs in corpus_wise_unigrams.iter()}"
   ]
  },
  {
   "cell_type": "code",
   "execution_count": null,
   "id": "3db0d2cb",
   "metadata": {},
   "outputs": [],
   "source": [
    "transitions_from_shared_types = {\n",
    "    False: {},\n",
    "    True: {}\n",
    "}\n",
    "for (is_minor, corpus_name), bgs in corpus_wise_bigrams.iter():\n",
    "    transitions_normalized_per_from = bgs.groupby(level=\"from\").apply(lambda S: (100 * S / S.sum()).round(1))\n",
    "    most_frequent_transition_per_from = transitions_normalized_per_from.rename('fraction').reset_index(level=1).groupby(level=0).nth(0)\n",
    "    most_frequent_transition_per_shared = most_frequent_transition_per_from.loc[types_shared_between_corpora[is_minor]]\n",
    "    unigram_frequency_of_shared = normalized_corpus_unigrams[(is_minor, corpus_name)].loc[types_shared_between_corpora[is_minor]]\n",
    "    combined = pd.concat([unigram_frequency_of_shared, most_frequent_transition_per_shared], axis=1)\n",
    "    transitions_from_shared_types[is_minor][corpus_name] = combined"
   ]
  },
  {
   "cell_type": "code",
   "execution_count": null,
   "id": "41b6bbae",
   "metadata": {},
   "outputs": [],
   "source": [
    "pd.concat(transitions_from_shared_types[False].values(), keys=transitions_from_shared_types[False].keys(), axis=1)"
   ]
  },
  {
   "cell_type": "code",
   "execution_count": null,
   "id": "b23f6e32",
   "metadata": {},
   "outputs": [],
   "source": [
    "pd.concat(transitions_from_shared_types[True].values(), keys=transitions_from_shared_types[False].keys(), axis=1)"
   ]
  },
  {
   "cell_type": "markdown",
   "id": "3c1ab59a",
   "metadata": {},
   "source": [
    "### Per piece"
   ]
  },
  {
   "cell_type": "code",
   "execution_count": null,
   "id": "78a39d80",
   "metadata": {},
   "outputs": [],
   "source": [
    "piece_wise_bigrams = dc.Pipeline([dc.PieceGrouper(), dc.ChordSymbolBigrams(once_per_group=True)]).process_data(mode_slices)"
   ]
  },
  {
   "cell_type": "code",
   "execution_count": null,
   "id": "f42af177",
   "metadata": {},
   "outputs": [],
   "source": [
    "piece_wise_bigrams.get()"
   ]
  }
 ],
 "metadata": {
  "kernelspec": {
   "display_name": "dimcat",
   "language": "python",
   "name": "dimcat"
  }
 },
 "nbformat": 4,
 "nbformat_minor": 5
}
