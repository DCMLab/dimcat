{
 "cells": [
  {
   "cell_type": "markdown",
   "id": "68b43171",
   "metadata": {},
   "source": [
    "# Working with Harmonic Annotations"
   ]
  },
  {
   "cell_type": "code",
   "execution_count": null,
   "id": "377b9df9",
   "metadata": {},
   "outputs": [],
   "source": [
    "import pandas as pd\n",
    "import pitchtypes as pt # this requires the development branch of pitchtypes\n",
    "import seaborn as sns\n",
    "import dimcat as dc\n",
    "import logging\n",
    "log = logging.getLogger()\n",
    "log.setLevel(logging.WARNING)"
   ]
  },
  {
   "cell_type": "markdown",
   "id": "521d680f",
   "metadata": {},
   "source": [
    "## Load dataset\n",
    "\n",
    "Use dimcat's `Dataset` class to load a dataset.\n",
    "Each dataset consists of several corpora (here only `ABC`),\n",
    "which in turn consist of several pieces (here `n01_op18-1_01`, `n01_op18-1_02`, etc.).\n",
    "\n",
    "A `Dataset` has several representations of each piece (e.g. a list of chord labels or a list of notes) called *facets*.\n",
    "Each facet is represented by a dataframe.\n",
    "\n",
    "Corpora can be processed, e.g. slicing notes according to different criteria (see below).\n",
    "The output of these operations is again a dataset with facets."
   ]
  },
  {
   "cell_type": "code",
   "execution_count": null,
   "id": "d8bba8ae",
   "metadata": {},
   "outputs": [],
   "source": [
    "# this takes some time because it parses the original data, not the preprocessed tsv files\n",
    "dataset = dc.Dataset()\n",
    "dataset.load(\"./ABC\")\n",
    "dataset.data"
   ]
  },
  {
   "cell_type": "markdown",
   "id": "53c1fb20",
   "metadata": {},
   "source": [
    "## Get notes"
   ]
  },
  {
   "cell_type": "code",
   "execution_count": null,
   "id": "4b0df87b",
   "metadata": {},
   "outputs": [],
   "source": [
    "notes = dataset.get_facet(\"notes\")\n",
    "notes"
   ]
  },
  {
   "cell_type": "markdown",
   "id": "39227ac6",
   "metadata": {},
   "source": [
    "## Example 1: Get pitches from dataframe and store them back\n",
    "\n",
    "Translate pitch columns to actual pitches:"
   ]
  },
  {
   "cell_type": "code",
   "execution_count": null,
   "id": "d84074e8",
   "metadata": {},
   "outputs": [],
   "source": [
    "def get_pitches(tpc, midi):\n",
    "    \"\"\"\n",
    "    Takes the tpc and midi columns of the notes df.\n",
    "    Returns a SpelledPitchArray\n",
    "    \"\"\"\n",
    "    pcs = pt.SpelledPitchClassArray(tpc)\n",
    "    alterations = pcs.alteration()\n",
    "    midi_base = midi - alterations\n",
    "    octaves = (midi_base // 12) - 1\n",
    "    return pt.SpelledPitchArray.from_independent(tpc, octaves)\n",
    "\n",
    "pitches = get_pitches(notes['tpc'], notes['midi'])\n",
    "pitches"
   ]
  },
  {
   "cell_type": "markdown",
   "id": "dfaabbb8",
   "metadata": {},
   "source": [
    "Assign back into dataframe:"
   ]
  },
  {
   "cell_type": "code",
   "execution_count": null,
   "id": "c50c74bf",
   "metadata": {},
   "outputs": [],
   "source": [
    "notes['pitch_str'] = pitches.name() # a vector of names\n",
    "notes['octave'] = pitches.octaves() # this makes it easier to convert back to a pitch array\n",
    "notes"
   ]
  },
  {
   "cell_type": "markdown",
   "id": "77da1439",
   "metadata": {},
   "source": [
    "## Example 2: Express all pitches relative to the key of the piece\n",
    "\n",
    "We get the keys from the harmonic annotations:"
   ]
  },
  {
   "cell_type": "code",
   "execution_count": null,
   "id": "4db85091",
   "metadata": {},
   "outputs": [],
   "source": [
    "labels = dataset.get_facet(\"expanded\")\n",
    "labels"
   ]
  },
  {
   "cell_type": "markdown",
   "id": "efd13236",
   "metadata": {},
   "source": [
    "The global key is constrant throughout a piece, so we group by piece and take the first entry in each group."
   ]
  },
  {
   "cell_type": "code",
   "execution_count": null,
   "id": "8bc4da9b",
   "metadata": {},
   "outputs": [],
   "source": [
    "keys = labels['globalkey'].groupby(['corpus', 'fname']).first()\n",
    "keys"
   ]
  },
  {
   "cell_type": "code",
   "execution_count": null,
   "id": "ec176551",
   "metadata": {},
   "outputs": [],
   "source": [
    "keys[('ABC', 'n01op18-1_01')]"
   ]
  },
  {
   "cell_type": "markdown",
   "id": "c1667193",
   "metadata": {},
   "source": [
    "Now we group the dataframe by piece, get the key of each piece, and translate its pitches to intervals from the root (in octave 0)."
   ]
  },
  {
   "cell_type": "code",
   "execution_count": null,
   "id": "a25e1051",
   "metadata": {},
   "outputs": [],
   "source": [
    "def to_relative_pitch(grp):\n",
    "    # find root\n",
    "    index = grp.name\n",
    "    root_name = keys[index]\n",
    "    # the pitch's letter must be uppercase,\n",
    "    # but the harmonic labels express minor keys using lowercase letters:\n",
    "    root_name = root_name[0].upper() + root_name[1:]\n",
    "    root = pt.SpelledPitchClass(root_name)\n",
    "    \n",
    "    # add new colums to the group: the key's root (name and tpc) and the relative pitch of each note\n",
    "    grp = grp.copy()\n",
    "    grp['global_root'] = str(root)\n",
    "    grp['global_root_tpc'] = root.fifths()\n",
    "    # load pitches from dataframe columns\n",
    "    pitches = pt.SpelledPitchArray.from_independent(grp['tpc'], grp['octave'])\n",
    "    # since the root is only a pitch class, we express pitches as interval classes.\n",
    "    # alternatively, we could embed the root into pitch space (octave 0) and work with non-class intervals\n",
    "    rel_pitches = pitches.pc() - root\n",
    "    grp['rel_pitch'] = rel_pitches.name() # don't just assign rel_pitches, this will convert to a list of SpelledIntervalClass objects\n",
    "    grp['rel_tic'] = rel_pitches.fifths()\n",
    "    return grp\n",
    "\n",
    "# group by piece and add columns\n",
    "df_rel = notes.groupby(['corpus', 'fname'], axis=\"rows\", sort=False, group_keys=False).apply(to_relative_pitch)\n",
    "df_rel\n",
    "df_rel[['tpc', 'midi', 'pitch_str', 'global_root', 'global_root_tpc', 'rel_pitch', 'rel_tic']]"
   ]
  },
  {
   "cell_type": "markdown",
   "id": "b6926bcf",
   "metadata": {},
   "source": [
    "Let's plot the distribution of untransposed tpcs vs the distribution of tpcs. You can see that the relative tpc is distributed more narrowly because we removed the variance that is due to the choice of key."
   ]
  },
  {
   "cell_type": "code",
   "execution_count": null,
   "id": "2035ca2b",
   "metadata": {},
   "outputs": [],
   "source": [
    "sns.histplot(data=df_rel[['tpc', 'rel_tic']].melt(var_name='type', value_name='fifth'),\n",
    "             x='fifth',\n",
    "             hue='type',\n",
    "             stat='density',\n",
    "             element='step',\n",
    "             discrete=True)"
   ]
  },
  {
   "cell_type": "code",
   "execution_count": null,
   "id": "959b4ae9",
   "metadata": {},
   "outputs": [],
   "source": []
  }
 ],
 "metadata": {
  "kernelspec": {
   "display_name": "dimcat",
   "language": "python",
   "name": "dimcat"
  }
 },
 "nbformat": 4,
 "nbformat_minor": 5
}
